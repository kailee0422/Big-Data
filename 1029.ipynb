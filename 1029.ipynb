{
  "nbformat": 4,
  "nbformat_minor": 0,
  "metadata": {
    "colab": {
      "name": "1029.ipynb",
      "provenance": [],
      "collapsed_sections": [],
      "include_colab_link": true
    },
    "kernelspec": {
      "name": "ir",
      "display_name": "R"
    }
  },
  "cells": [
    {
      "cell_type": "markdown",
      "metadata": {
        "id": "view-in-github",
        "colab_type": "text"
      },
      "source": [
        "<a href=\"https://colab.research.google.com/github/kailee0422/Big-Data/blob/master/1029.ipynb\" target=\"_parent\"><img src=\"https://colab.research.google.com/assets/colab-badge.svg\" alt=\"Open In Colab\"/></a>"
      ]
    },
    {
      "cell_type": "code",
      "metadata": {
        "id": "6uN1Nw27Rc5w",
        "outputId": "30ebfabc-3b8a-47ae-c978-78c5bc216ca9",
        "colab": {
          "base_uri": "https://localhost:8080/"
        }
      },
      "source": [
        "install.packages(\"ggplot2\")"
      ],
      "execution_count": 3,
      "outputs": [
        {
          "output_type": "stream",
          "text": [
            "Installing package into ‘/usr/local/lib/R/site-library’\n",
            "(as ‘lib’ is unspecified)\n",
            "\n"
          ],
          "name": "stderr"
        }
      ]
    },
    {
      "cell_type": "code",
      "metadata": {
        "id": "Nw9yd_FShX_S",
        "outputId": "5db902d3-bde7-4bd3-87d2-988117367aef",
        "colab": {
          "base_uri": "https://localhost:8080/"
        }
      },
      "source": [
        "install.packages(\"readr\")"
      ],
      "execution_count": 2,
      "outputs": [
        {
          "output_type": "stream",
          "text": [
            "Installing package into ‘/usr/local/lib/R/site-library’\n",
            "(as ‘lib’ is unspecified)\n",
            "\n"
          ],
          "name": "stderr"
        }
      ]
    },
    {
      "cell_type": "code",
      "metadata": {
        "id": "hFvJpVBlhmGp"
      },
      "source": [
        "library(readr)\n",
        "library(ggplot2)"
      ],
      "execution_count": 4,
      "outputs": []
    },
    {
      "cell_type": "code",
      "metadata": {
        "id": "fGTbOjy4hw7G"
      },
      "source": [
        "studentdataset <- read.csv(\"108_student.csv\")"
      ],
      "execution_count": null,
      "outputs": []
    },
    {
      "cell_type": "code",
      "metadata": {
        "id": "B87k1_lki4jk",
        "outputId": "c9edcc5d-bccf-411a-d444-f3f0a66580f2",
        "colab": {
          "base_uri": "https://localhost:8080/",
          "height": 131
        }
      },
      "source": [
        "str(studentdataset)"
      ],
      "execution_count": 10,
      "outputs": [
        {
          "output_type": "error",
          "ename": "ERROR",
          "evalue": "ignored",
          "traceback": [
            "Error in str(studentdataset): object 'studentdataset' not found\nTraceback:\n",
            "1. str(studentdataset)"
          ]
        }
      ]
    },
    {
      "cell_type": "code",
      "metadata": {
        "id": "Kme4zbmki-fn",
        "outputId": "7f8aea72-6e50-4904-a99a-6c07c5ea26d9",
        "colab": {
          "base_uri": "https://localhost:8080/",
          "height": 131
        }
      },
      "source": [
        "head(studentdataset)"
      ],
      "execution_count": 11,
      "outputs": [
        {
          "output_type": "error",
          "ename": "ERROR",
          "evalue": "ignored",
          "traceback": [
            "Error in head(studentdataset): object 'studentdataset' not found\nTraceback:\n",
            "1. head(studentdataset)"
          ]
        }
      ]
    },
    {
      "cell_type": "code",
      "metadata": {
        "id": "PiXvYBJRjAUS",
        "outputId": "24bdc801-3828-4dcd-feda-a75a9be76bcf",
        "colab": {
          "base_uri": "https://localhost:8080/",
          "height": 131
        }
      },
      "source": [
        "ggplot(studentdataset,aes(x=體系別,y=總計))+geom_point()"
      ],
      "execution_count": 13,
      "outputs": [
        {
          "output_type": "error",
          "ename": "ERROR",
          "evalue": "ignored",
          "traceback": [
            "Error in ggplot(studentdataset, aes(x = 體系別, y = 總計)): object 'studentdataset' not found\nTraceback:\n",
            "1. ggplot(studentdataset, aes(x = 體系別, y = 總計))"
          ]
        }
      ]
    },
    {
      "cell_type": "code",
      "metadata": {
        "id": "LbE4qTRdkTFw"
      },
      "source": [
        "install.packages(\"showtext\")\n"
      ],
      "execution_count": null,
      "outputs": []
    },
    {
      "cell_type": "code",
      "metadata": {
        "id": "fFkypj8ikWZZ"
      },
      "source": [
        "library(showtext)\n"
      ],
      "execution_count": null,
      "outputs": []
    },
    {
      "cell_type": "code",
      "metadata": {
        "id": "f_Fy8nhJkYj7"
      },
      "source": [
        "showtext.auto(enable = TRUE)\n"
      ],
      "execution_count": null,
      "outputs": []
    }
  ]
}