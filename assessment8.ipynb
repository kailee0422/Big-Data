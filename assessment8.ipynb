{
  "nbformat": 4,
  "nbformat_minor": 0,
  "metadata": {
    "colab": {
      "name": "assessment8.ipynb",
      "provenance": [],
      "collapsed_sections": [],
      "include_colab_link": true
    },
    "kernelspec": {
      "name": "ir",
      "display_name": "R"
    }
  },
  "cells": [
    {
      "cell_type": "markdown",
      "metadata": {
        "id": "view-in-github",
        "colab_type": "text"
      },
      "source": [
        "<a href=\"https://colab.research.google.com/github/kailee0422/Big-Data/blob/master/assessment8.ipynb\" target=\"_parent\"><img src=\"https://colab.research.google.com/assets/colab-badge.svg\" alt=\"Open In Colab\"/></a>"
      ]
    },
    {
      "cell_type": "code",
      "metadata": {
        "id": "tkHkzGJ7rgSZ",
        "outputId": "5fae4503-608a-4429-b2c0-cc5f116e1936",
        "colab": {
          "base_uri": "https://localhost:8080/"
        }
      },
      "source": [
        "install.packages(\"rJava\")\n",
        "install.packages(\"jiebaR\")\n",
        "install.packages(\"tmcn\")\n",
        "install.packages(\"dplyr\")\n",
        "install.packages(\"lubridate\")\n",
        "install.packages(\"stringr\")\n",
        "install.packages(\"wordcloud\")\n",
        "install.packages(\"Rwordseg\",repos = \"http://R-Forge.R-project.org\")\n"
      ],
      "execution_count": 1,
      "outputs": [
        {
          "output_type": "stream",
          "text": [
            "Installing package into ‘/usr/local/lib/R/site-library’\n",
            "(as ‘lib’ is unspecified)\n",
            "\n",
            "Installing package into ‘/usr/local/lib/R/site-library’\n",
            "(as ‘lib’ is unspecified)\n",
            "\n",
            "also installing the dependency ‘jiebaRD’\n",
            "\n",
            "\n",
            "Installing package into ‘/usr/local/lib/R/site-library’\n",
            "(as ‘lib’ is unspecified)\n",
            "\n",
            "Installing package into ‘/usr/local/lib/R/site-library’\n",
            "(as ‘lib’ is unspecified)\n",
            "\n",
            "Installing package into ‘/usr/local/lib/R/site-library’\n",
            "(as ‘lib’ is unspecified)\n",
            "\n",
            "Installing package into ‘/usr/local/lib/R/site-library’\n",
            "(as ‘lib’ is unspecified)\n",
            "\n",
            "Installing package into ‘/usr/local/lib/R/site-library’\n",
            "(as ‘lib’ is unspecified)\n",
            "\n",
            "Installing package into ‘/usr/local/lib/R/site-library’\n",
            "(as ‘lib’ is unspecified)\n",
            "\n",
            "Warning message:\n",
            "“dependency ‘HMM’ is not available”\n",
            "Warning message in install.packages(\"Rwordseg\", repos = \"http://R-Forge.R-project.org\"):\n",
            "“installation of package ‘Rwordseg’ had non-zero exit status”\n"
          ],
          "name": "stderr"
        }
      ]
    },
    {
      "cell_type": "code",
      "metadata": {
        "id": "ez_ZZ_lcriwC",
        "outputId": "4cbd4e3d-ca67-43fd-8141-a793e5c153fa",
        "colab": {
          "base_uri": "https://localhost:8080/"
        }
      },
      "source": [
        "library(rJava)\n",
        "library(jiebaR)\n",
        "library(lubridate)\n",
        "library(stringr)\n",
        "library(wordcloud)"
      ],
      "execution_count": 2,
      "outputs": [
        {
          "output_type": "stream",
          "text": [
            "Loading required package: jiebaRD\n",
            "\n",
            "\n",
            "Attaching package: ‘lubridate’\n",
            "\n",
            "\n",
            "The following objects are masked from ‘package:base’:\n",
            "\n",
            "    date, intersect, setdiff, union\n",
            "\n",
            "\n",
            "Loading required package: RColorBrewer\n",
            "\n"
          ],
          "name": "stderr"
        }
      ]
    },
    {
      "cell_type": "code",
      "metadata": {
        "id": "vUSXrQsJroDY"
      },
      "source": [
        "content <- \"我不羨慕 太陽\n",
        "照不亮你 過往\n",
        "有些黑暗 我們 都一樣\n",
        "我太嫉妒 時光\n",
        "能離開的 大方\n",
        "不用開口 也就無需躲藏\n",
        "有一種悲傷\n",
        "是你的名字停留在我的過往\n",
        "陪伴我呼吸 決定我微笑模樣\n",
        "無法遺忘\n",
        "有一種悲傷\n",
        "是笑著與你分開 思念卻背對背張望\n",
        "剩下倔強 剩下合照一張\n",
        "Oh oh\n",
        "成為彼此的路 多嚮往 怎會失去方向？\n",
        "有一種悲傷 oh\n",
        "留在我過往 無法遺忘 oh\n",
        "有一種悲傷\n",
        "是你義無反顧 讓愛成為 我身上的光\n",
        "給我溫暖 卻不准我遺忘\n",
        "有一種悲傷\n",
        "不想要與你分開 思念才背對背張望\n",
        "你是所有 你是合照一張\""
      ],
      "execution_count": 3,
      "outputs": []
    },
    {
      "cell_type": "code",
      "metadata": {
        "id": "GRtHwl7QsMZK",
        "outputId": "43110881-378f-4022-b40c-e26ff357c6b4",
        "colab": {
          "base_uri": "https://localhost:8080/",
          "height": 67
        }
      },
      "source": [
        "cutter <- worker(bylines=F)#\n",
        "cutter[content]"
      ],
      "execution_count": 4,
      "outputs": [
        {
          "output_type": "display_data",
          "data": {
            "text/plain": [
              "  [1] \"我\"       \"不\"       \"羨慕\"     \"太陽\"     \"照不亮\"   \"你\"      \n",
              "  [7] \"過往\"     \"有些\"     \"黑暗\"     \"我們\"     \"都\"       \"一樣\"    \n",
              " [13] \"我\"       \"太\"       \"嫉妒\"     \"時光\"     \"能\"       \"離開\"    \n",
              " [19] \"的\"       \"大方\"     \"不用\"     \"開口\"     \"也\"       \"就\"      \n",
              " [25] \"無需\"     \"躲藏\"     \"有\"       \"一種\"     \"悲傷\"     \"是\"      \n",
              " [31] \"你\"       \"的\"       \"名字\"     \"停留\"     \"在\"       \"我\"      \n",
              " [37] \"的\"       \"過往\"     \"陪伴\"     \"我\"       \"呼吸\"     \"決定\"    \n",
              " [43] \"我\"       \"微笑\"     \"模樣\"     \"無法\"     \"遺忘\"     \"有\"      \n",
              " [49] \"一種\"     \"悲傷\"     \"是\"       \"笑\"       \"著\"       \"與\"      \n",
              " [55] \"你\"       \"分開\"     \"思念\"     \"卻\"       \"背對背\"   \"張望\"    \n",
              " [61] \"剩下\"     \"倔強\"     \"剩下\"     \"合照\"     \"一張\"     \"Oh\"      \n",
              " [67] \"oh\"       \"成為\"     \"彼此\"     \"的\"       \"路\"       \"多\"      \n",
              " [73] \"嚮往\"     \"怎會\"     \"失去\"     \"方向\"     \"有\"       \"一種\"    \n",
              " [79] \"悲傷\"     \"oh\"       \"留在\"     \"我\"       \"過往\"     \"無法\"    \n",
              " [85] \"遺忘\"     \"oh\"       \"有\"       \"一種\"     \"悲傷\"     \"是\"      \n",
              " [91] \"你\"       \"義無反顧\" \"讓\"       \"愛成\"     \"為\"       \"我\"      \n",
              " [97] \"身上\"     \"的\"       \"光\"       \"給我\"     \"溫暖\"     \"卻\"      \n",
              "[103] \"不准\"     \"我\"       \"遺忘\"     \"有\"       \"一種\"     \"悲傷\"    \n",
              "[109] \"不\"       \"想要\"     \"與\"       \"你\"       \"分開\"     \"思念\"    \n",
              "[115] \"才\"       \"背對背\"   \"張望\"     \"你\"       \"是\"       \"所有\"    \n",
              "[121] \"你\"       \"是\"       \"合照\"     \"一張\"    "
            ],
            "text/latex": "\\begin{enumerate*}\n\\item '我'\n\\item '不'\n\\item '羨慕'\n\\item '太陽'\n\\item '照不亮'\n\\item '你'\n\\item '過往'\n\\item '有些'\n\\item '黑暗'\n\\item '我們'\n\\item '都'\n\\item '一樣'\n\\item '我'\n\\item '太'\n\\item '嫉妒'\n\\item '時光'\n\\item '能'\n\\item '離開'\n\\item '的'\n\\item '大方'\n\\item '不用'\n\\item '開口'\n\\item '也'\n\\item '就'\n\\item '無需'\n\\item '躲藏'\n\\item '有'\n\\item '一種'\n\\item '悲傷'\n\\item '是'\n\\item '你'\n\\item '的'\n\\item '名字'\n\\item '停留'\n\\item '在'\n\\item '我'\n\\item '的'\n\\item '過往'\n\\item '陪伴'\n\\item '我'\n\\item '呼吸'\n\\item '決定'\n\\item '我'\n\\item '微笑'\n\\item '模樣'\n\\item '無法'\n\\item '遺忘'\n\\item '有'\n\\item '一種'\n\\item '悲傷'\n\\item '是'\n\\item '笑'\n\\item '著'\n\\item '與'\n\\item '你'\n\\item '分開'\n\\item '思念'\n\\item '卻'\n\\item '背對背'\n\\item '張望'\n\\item '剩下'\n\\item '倔強'\n\\item '剩下'\n\\item '合照'\n\\item '一張'\n\\item 'Oh'\n\\item 'oh'\n\\item '成為'\n\\item '彼此'\n\\item '的'\n\\item '路'\n\\item '多'\n\\item '嚮往'\n\\item '怎會'\n\\item '失去'\n\\item '方向'\n\\item '有'\n\\item '一種'\n\\item '悲傷'\n\\item 'oh'\n\\item '留在'\n\\item '我'\n\\item '過往'\n\\item '無法'\n\\item '遺忘'\n\\item 'oh'\n\\item '有'\n\\item '一種'\n\\item '悲傷'\n\\item '是'\n\\item '你'\n\\item '義無反顧'\n\\item '讓'\n\\item '愛成'\n\\item '為'\n\\item '我'\n\\item '身上'\n\\item '的'\n\\item '光'\n\\item '給我'\n\\item '溫暖'\n\\item '卻'\n\\item '不准'\n\\item '我'\n\\item '遺忘'\n\\item '有'\n\\item '一種'\n\\item '悲傷'\n\\item '不'\n\\item '想要'\n\\item '與'\n\\item '你'\n\\item '分開'\n\\item '思念'\n\\item '才'\n\\item '背對背'\n\\item '張望'\n\\item '你'\n\\item '是'\n\\item '所有'\n\\item '你'\n\\item '是'\n\\item '合照'\n\\item '一張'\n\\end{enumerate*}\n",
            "text/markdown": "1. '我'\n2. '不'\n3. '羨慕'\n4. '太陽'\n5. '照不亮'\n6. '你'\n7. '過往'\n8. '有些'\n9. '黑暗'\n10. '我們'\n11. '都'\n12. '一樣'\n13. '我'\n14. '太'\n15. '嫉妒'\n16. '時光'\n17. '能'\n18. '離開'\n19. '的'\n20. '大方'\n21. '不用'\n22. '開口'\n23. '也'\n24. '就'\n25. '無需'\n26. '躲藏'\n27. '有'\n28. '一種'\n29. '悲傷'\n30. '是'\n31. '你'\n32. '的'\n33. '名字'\n34. '停留'\n35. '在'\n36. '我'\n37. '的'\n38. '過往'\n39. '陪伴'\n40. '我'\n41. '呼吸'\n42. '決定'\n43. '我'\n44. '微笑'\n45. '模樣'\n46. '無法'\n47. '遺忘'\n48. '有'\n49. '一種'\n50. '悲傷'\n51. '是'\n52. '笑'\n53. '著'\n54. '與'\n55. '你'\n56. '分開'\n57. '思念'\n58. '卻'\n59. '背對背'\n60. '張望'\n61. '剩下'\n62. '倔強'\n63. '剩下'\n64. '合照'\n65. '一張'\n66. 'Oh'\n67. 'oh'\n68. '成為'\n69. '彼此'\n70. '的'\n71. '路'\n72. '多'\n73. '嚮往'\n74. '怎會'\n75. '失去'\n76. '方向'\n77. '有'\n78. '一種'\n79. '悲傷'\n80. 'oh'\n81. '留在'\n82. '我'\n83. '過往'\n84. '無法'\n85. '遺忘'\n86. 'oh'\n87. '有'\n88. '一種'\n89. '悲傷'\n90. '是'\n91. '你'\n92. '義無反顧'\n93. '讓'\n94. '愛成'\n95. '為'\n96. '我'\n97. '身上'\n98. '的'\n99. '光'\n100. '給我'\n101. '溫暖'\n102. '卻'\n103. '不准'\n104. '我'\n105. '遺忘'\n106. '有'\n107. '一種'\n108. '悲傷'\n109. '不'\n110. '想要'\n111. '與'\n112. '你'\n113. '分開'\n114. '思念'\n115. '才'\n116. '背對背'\n117. '張望'\n118. '你'\n119. '是'\n120. '所有'\n121. '你'\n122. '是'\n123. '合照'\n124. '一張'\n\n\n",
            "text/html": [
              "<style>\n",
              ".list-inline {list-style: none; margin:0; padding: 0}\n",
              ".list-inline>li {display: inline-block}\n",
              ".list-inline>li:not(:last-child)::after {content: \"\\00b7\"; padding: 0 .5ex}\n",
              "</style>\n",
              "<ol class=list-inline><li>'我'</li><li>'不'</li><li>'羨慕'</li><li>'太陽'</li><li>'照不亮'</li><li>'你'</li><li>'過往'</li><li>'有些'</li><li>'黑暗'</li><li>'我們'</li><li>'都'</li><li>'一樣'</li><li>'我'</li><li>'太'</li><li>'嫉妒'</li><li>'時光'</li><li>'能'</li><li>'離開'</li><li>'的'</li><li>'大方'</li><li>'不用'</li><li>'開口'</li><li>'也'</li><li>'就'</li><li>'無需'</li><li>'躲藏'</li><li>'有'</li><li>'一種'</li><li>'悲傷'</li><li>'是'</li><li>'你'</li><li>'的'</li><li>'名字'</li><li>'停留'</li><li>'在'</li><li>'我'</li><li>'的'</li><li>'過往'</li><li>'陪伴'</li><li>'我'</li><li>'呼吸'</li><li>'決定'</li><li>'我'</li><li>'微笑'</li><li>'模樣'</li><li>'無法'</li><li>'遺忘'</li><li>'有'</li><li>'一種'</li><li>'悲傷'</li><li>'是'</li><li>'笑'</li><li>'著'</li><li>'與'</li><li>'你'</li><li>'分開'</li><li>'思念'</li><li>'卻'</li><li>'背對背'</li><li>'張望'</li><li>'剩下'</li><li>'倔強'</li><li>'剩下'</li><li>'合照'</li><li>'一張'</li><li>'Oh'</li><li>'oh'</li><li>'成為'</li><li>'彼此'</li><li>'的'</li><li>'路'</li><li>'多'</li><li>'嚮往'</li><li>'怎會'</li><li>'失去'</li><li>'方向'</li><li>'有'</li><li>'一種'</li><li>'悲傷'</li><li>'oh'</li><li>'留在'</li><li>'我'</li><li>'過往'</li><li>'無法'</li><li>'遺忘'</li><li>'oh'</li><li>'有'</li><li>'一種'</li><li>'悲傷'</li><li>'是'</li><li>'你'</li><li>'義無反顧'</li><li>'讓'</li><li>'愛成'</li><li>'為'</li><li>'我'</li><li>'身上'</li><li>'的'</li><li>'光'</li><li>'給我'</li><li>'溫暖'</li><li>'卻'</li><li>'不准'</li><li>'我'</li><li>'遺忘'</li><li>'有'</li><li>'一種'</li><li>'悲傷'</li><li>'不'</li><li>'想要'</li><li>'與'</li><li>'你'</li><li>'分開'</li><li>'思念'</li><li>'才'</li><li>'背對背'</li><li>'張望'</li><li>'你'</li><li>'是'</li><li>'所有'</li><li>'你'</li><li>'是'</li><li>'合照'</li><li>'一張'</li></ol>\n"
            ]
          },
          "metadata": {
            "tags": []
          }
        }
      ]
    },
    {
      "cell_type": "code",
      "metadata": {
        "id": "p9Xg1sJ6sXTX",
        "outputId": "64a0a2be-848e-4ddb-a3f8-93078643231b",
        "colab": {
          "base_uri": "https://localhost:8080/",
          "height": 67
        }
      },
      "source": [
        "new_words <- c(\"有一種悲傷\",\"K\",\"Cream\")\n",
        "for(i in 1:length(new_words)){\n",
        "  new_user_word(cutter,new_words[i])\n",
        "}\n",
        "content <- str_remove_all(content,\"[0-9a-zA]+?\")\n",
        "cutter[content]"
      ],
      "execution_count": 6,
      "outputs": [
        {
          "output_type": "display_data",
          "data": {
            "text/plain": [
              "  [1] \"我\"         \"不\"         \"羨慕\"       \"太陽\"       \"照不亮\"    \n",
              "  [6] \"你\"         \"過往\"       \"有些\"       \"黑暗\"       \"我們\"      \n",
              " [11] \"都\"         \"一樣\"       \"我\"         \"太\"         \"嫉妒\"      \n",
              " [16] \"時光\"       \"能\"         \"離開\"       \"的\"         \"大方\"      \n",
              " [21] \"不用\"       \"開口\"       \"也\"         \"就\"         \"無需\"      \n",
              " [26] \"躲藏\"       \"有一種悲傷\" \"是\"         \"你\"         \"的\"        \n",
              " [31] \"名字\"       \"停留\"       \"在\"         \"我\"         \"的\"        \n",
              " [36] \"過往\"       \"陪伴\"       \"我\"         \"呼吸\"       \"決定\"      \n",
              " [41] \"我\"         \"微笑\"       \"模樣\"       \"無法\"       \"遺忘\"      \n",
              " [46] \"有一種悲傷\" \"是\"         \"笑\"         \"著\"         \"與\"        \n",
              " [51] \"你\"         \"分開\"       \"思念\"       \"卻\"         \"背對背\"    \n",
              " [56] \"張望\"       \"剩下\"       \"倔強\"       \"剩下\"       \"合照\"      \n",
              " [61] \"一張\"       \"O\"          \"成為\"       \"彼此\"       \"的\"        \n",
              " [66] \"路\"         \"多\"         \"嚮往\"       \"怎會\"       \"失去\"      \n",
              " [71] \"方向\"       \"有一種悲傷\" \"留在\"       \"我\"         \"過往\"      \n",
              " [76] \"無法\"       \"遺忘\"       \"有一種悲傷\" \"是\"         \"你\"        \n",
              " [81] \"義無反顧\"   \"讓\"         \"愛成\"       \"為\"         \"我\"        \n",
              " [86] \"身上\"       \"的\"         \"光\"         \"給我\"       \"溫暖\"      \n",
              " [91] \"卻\"         \"不准\"       \"我\"         \"遺忘\"       \"有一種悲傷\"\n",
              " [96] \"不\"         \"想要\"       \"與\"         \"你\"         \"分開\"      \n",
              "[101] \"思念\"       \"才\"         \"背對背\"     \"張望\"       \"你\"        \n",
              "[106] \"是\"         \"所有\"       \"你\"         \"是\"         \"合照\"      \n",
              "[111] \"一張\"      "
            ],
            "text/latex": "\\begin{enumerate*}\n\\item '我'\n\\item '不'\n\\item '羨慕'\n\\item '太陽'\n\\item '照不亮'\n\\item '你'\n\\item '過往'\n\\item '有些'\n\\item '黑暗'\n\\item '我們'\n\\item '都'\n\\item '一樣'\n\\item '我'\n\\item '太'\n\\item '嫉妒'\n\\item '時光'\n\\item '能'\n\\item '離開'\n\\item '的'\n\\item '大方'\n\\item '不用'\n\\item '開口'\n\\item '也'\n\\item '就'\n\\item '無需'\n\\item '躲藏'\n\\item '有一種悲傷'\n\\item '是'\n\\item '你'\n\\item '的'\n\\item '名字'\n\\item '停留'\n\\item '在'\n\\item '我'\n\\item '的'\n\\item '過往'\n\\item '陪伴'\n\\item '我'\n\\item '呼吸'\n\\item '決定'\n\\item '我'\n\\item '微笑'\n\\item '模樣'\n\\item '無法'\n\\item '遺忘'\n\\item '有一種悲傷'\n\\item '是'\n\\item '笑'\n\\item '著'\n\\item '與'\n\\item '你'\n\\item '分開'\n\\item '思念'\n\\item '卻'\n\\item '背對背'\n\\item '張望'\n\\item '剩下'\n\\item '倔強'\n\\item '剩下'\n\\item '合照'\n\\item '一張'\n\\item 'O'\n\\item '成為'\n\\item '彼此'\n\\item '的'\n\\item '路'\n\\item '多'\n\\item '嚮往'\n\\item '怎會'\n\\item '失去'\n\\item '方向'\n\\item '有一種悲傷'\n\\item '留在'\n\\item '我'\n\\item '過往'\n\\item '無法'\n\\item '遺忘'\n\\item '有一種悲傷'\n\\item '是'\n\\item '你'\n\\item '義無反顧'\n\\item '讓'\n\\item '愛成'\n\\item '為'\n\\item '我'\n\\item '身上'\n\\item '的'\n\\item '光'\n\\item '給我'\n\\item '溫暖'\n\\item '卻'\n\\item '不准'\n\\item '我'\n\\item '遺忘'\n\\item '有一種悲傷'\n\\item '不'\n\\item '想要'\n\\item '與'\n\\item '你'\n\\item '分開'\n\\item '思念'\n\\item '才'\n\\item '背對背'\n\\item '張望'\n\\item '你'\n\\item '是'\n\\item '所有'\n\\item '你'\n\\item '是'\n\\item '合照'\n\\item '一張'\n\\end{enumerate*}\n",
            "text/markdown": "1. '我'\n2. '不'\n3. '羨慕'\n4. '太陽'\n5. '照不亮'\n6. '你'\n7. '過往'\n8. '有些'\n9. '黑暗'\n10. '我們'\n11. '都'\n12. '一樣'\n13. '我'\n14. '太'\n15. '嫉妒'\n16. '時光'\n17. '能'\n18. '離開'\n19. '的'\n20. '大方'\n21. '不用'\n22. '開口'\n23. '也'\n24. '就'\n25. '無需'\n26. '躲藏'\n27. '有一種悲傷'\n28. '是'\n29. '你'\n30. '的'\n31. '名字'\n32. '停留'\n33. '在'\n34. '我'\n35. '的'\n36. '過往'\n37. '陪伴'\n38. '我'\n39. '呼吸'\n40. '決定'\n41. '我'\n42. '微笑'\n43. '模樣'\n44. '無法'\n45. '遺忘'\n46. '有一種悲傷'\n47. '是'\n48. '笑'\n49. '著'\n50. '與'\n51. '你'\n52. '分開'\n53. '思念'\n54. '卻'\n55. '背對背'\n56. '張望'\n57. '剩下'\n58. '倔強'\n59. '剩下'\n60. '合照'\n61. '一張'\n62. 'O'\n63. '成為'\n64. '彼此'\n65. '的'\n66. '路'\n67. '多'\n68. '嚮往'\n69. '怎會'\n70. '失去'\n71. '方向'\n72. '有一種悲傷'\n73. '留在'\n74. '我'\n75. '過往'\n76. '無法'\n77. '遺忘'\n78. '有一種悲傷'\n79. '是'\n80. '你'\n81. '義無反顧'\n82. '讓'\n83. '愛成'\n84. '為'\n85. '我'\n86. '身上'\n87. '的'\n88. '光'\n89. '給我'\n90. '溫暖'\n91. '卻'\n92. '不准'\n93. '我'\n94. '遺忘'\n95. '有一種悲傷'\n96. '不'\n97. '想要'\n98. '與'\n99. '你'\n100. '分開'\n101. '思念'\n102. '才'\n103. '背對背'\n104. '張望'\n105. '你'\n106. '是'\n107. '所有'\n108. '你'\n109. '是'\n110. '合照'\n111. '一張'\n\n\n",
            "text/html": [
              "<style>\n",
              ".list-inline {list-style: none; margin:0; padding: 0}\n",
              ".list-inline>li {display: inline-block}\n",
              ".list-inline>li:not(:last-child)::after {content: \"\\00b7\"; padding: 0 .5ex}\n",
              "</style>\n",
              "<ol class=list-inline><li>'我'</li><li>'不'</li><li>'羨慕'</li><li>'太陽'</li><li>'照不亮'</li><li>'你'</li><li>'過往'</li><li>'有些'</li><li>'黑暗'</li><li>'我們'</li><li>'都'</li><li>'一樣'</li><li>'我'</li><li>'太'</li><li>'嫉妒'</li><li>'時光'</li><li>'能'</li><li>'離開'</li><li>'的'</li><li>'大方'</li><li>'不用'</li><li>'開口'</li><li>'也'</li><li>'就'</li><li>'無需'</li><li>'躲藏'</li><li>'有一種悲傷'</li><li>'是'</li><li>'你'</li><li>'的'</li><li>'名字'</li><li>'停留'</li><li>'在'</li><li>'我'</li><li>'的'</li><li>'過往'</li><li>'陪伴'</li><li>'我'</li><li>'呼吸'</li><li>'決定'</li><li>'我'</li><li>'微笑'</li><li>'模樣'</li><li>'無法'</li><li>'遺忘'</li><li>'有一種悲傷'</li><li>'是'</li><li>'笑'</li><li>'著'</li><li>'與'</li><li>'你'</li><li>'分開'</li><li>'思念'</li><li>'卻'</li><li>'背對背'</li><li>'張望'</li><li>'剩下'</li><li>'倔強'</li><li>'剩下'</li><li>'合照'</li><li>'一張'</li><li>'O'</li><li>'成為'</li><li>'彼此'</li><li>'的'</li><li>'路'</li><li>'多'</li><li>'嚮往'</li><li>'怎會'</li><li>'失去'</li><li>'方向'</li><li>'有一種悲傷'</li><li>'留在'</li><li>'我'</li><li>'過往'</li><li>'無法'</li><li>'遺忘'</li><li>'有一種悲傷'</li><li>'是'</li><li>'你'</li><li>'義無反顧'</li><li>'讓'</li><li>'愛成'</li><li>'為'</li><li>'我'</li><li>'身上'</li><li>'的'</li><li>'光'</li><li>'給我'</li><li>'溫暖'</li><li>'卻'</li><li>'不准'</li><li>'我'</li><li>'遺忘'</li><li>'有一種悲傷'</li><li>'不'</li><li>'想要'</li><li>'與'</li><li>'你'</li><li>'分開'</li><li>'思念'</li><li>'才'</li><li>'背對背'</li><li>'張望'</li><li>'你'</li><li>'是'</li><li>'所有'</li><li>'你'</li><li>'是'</li><li>'合照'</li><li>'一張'</li></ol>\n"
            ]
          },
          "metadata": {
            "tags": []
          }
        }
      ]
    },
    {
      "cell_type": "code",
      "metadata": {
        "id": "PlLRLr-isz2i",
        "outputId": "75f3193f-694d-4a16-8c9d-05b018e0f0c4",
        "colab": {
          "base_uri": "https://localhost:8080/",
          "height": 67
        }
      },
      "source": [
        "new_words <- c(\"有一種悲傷\",\"K\",\"Cream\")\n",
        "writeLines(new_words, \"new_words.txt\")\n",
        "cutter<-worker(user = \"new_words.txt\",bylines = FALSE)\n",
        "seg_words<-cutter[content]\n",
        "seg_words"
      ],
      "execution_count": 7,
      "outputs": [
        {
          "output_type": "display_data",
          "data": {
            "text/plain": [
              "  [1] \"我\"         \"不\"         \"羨慕\"       \"太陽\"       \"照不亮\"    \n",
              "  [6] \"你\"         \"過往\"       \"有些\"       \"黑暗\"       \"我們\"      \n",
              " [11] \"都\"         \"一樣\"       \"我\"         \"太\"         \"嫉妒\"      \n",
              " [16] \"時光\"       \"能\"         \"離開\"       \"的\"         \"大方\"      \n",
              " [21] \"不用\"       \"開口\"       \"也\"         \"就\"         \"無需\"      \n",
              " [26] \"躲藏\"       \"有一種悲傷\" \"是\"         \"你\"         \"的\"        \n",
              " [31] \"名字\"       \"停留\"       \"在\"         \"我\"         \"的\"        \n",
              " [36] \"過往\"       \"陪伴\"       \"我\"         \"呼吸\"       \"決定\"      \n",
              " [41] \"我\"         \"微笑\"       \"模樣\"       \"無法\"       \"遺忘\"      \n",
              " [46] \"有一種悲傷\" \"是\"         \"笑\"         \"著\"         \"與\"        \n",
              " [51] \"你\"         \"分開\"       \"思念\"       \"卻\"         \"背對背\"    \n",
              " [56] \"張望\"       \"剩下\"       \"倔強\"       \"剩下\"       \"合照\"      \n",
              " [61] \"一張\"       \"O\"          \"成為\"       \"彼此\"       \"的\"        \n",
              " [66] \"路\"         \"多\"         \"嚮往\"       \"怎會\"       \"失去\"      \n",
              " [71] \"方向\"       \"有一種悲傷\" \"留在\"       \"我\"         \"過往\"      \n",
              " [76] \"無法\"       \"遺忘\"       \"有一種悲傷\" \"是\"         \"你\"        \n",
              " [81] \"義無反顧\"   \"讓\"         \"愛成\"       \"為\"         \"我\"        \n",
              " [86] \"身上\"       \"的\"         \"光\"         \"給我\"       \"溫暖\"      \n",
              " [91] \"卻\"         \"不准\"       \"我\"         \"遺忘\"       \"有一種悲傷\"\n",
              " [96] \"不\"         \"想要\"       \"與\"         \"你\"         \"分開\"      \n",
              "[101] \"思念\"       \"才\"         \"背對背\"     \"張望\"       \"你\"        \n",
              "[106] \"是\"         \"所有\"       \"你\"         \"是\"         \"合照\"      \n",
              "[111] \"一張\"      "
            ],
            "text/latex": "\\begin{enumerate*}\n\\item '我'\n\\item '不'\n\\item '羨慕'\n\\item '太陽'\n\\item '照不亮'\n\\item '你'\n\\item '過往'\n\\item '有些'\n\\item '黑暗'\n\\item '我們'\n\\item '都'\n\\item '一樣'\n\\item '我'\n\\item '太'\n\\item '嫉妒'\n\\item '時光'\n\\item '能'\n\\item '離開'\n\\item '的'\n\\item '大方'\n\\item '不用'\n\\item '開口'\n\\item '也'\n\\item '就'\n\\item '無需'\n\\item '躲藏'\n\\item '有一種悲傷'\n\\item '是'\n\\item '你'\n\\item '的'\n\\item '名字'\n\\item '停留'\n\\item '在'\n\\item '我'\n\\item '的'\n\\item '過往'\n\\item '陪伴'\n\\item '我'\n\\item '呼吸'\n\\item '決定'\n\\item '我'\n\\item '微笑'\n\\item '模樣'\n\\item '無法'\n\\item '遺忘'\n\\item '有一種悲傷'\n\\item '是'\n\\item '笑'\n\\item '著'\n\\item '與'\n\\item '你'\n\\item '分開'\n\\item '思念'\n\\item '卻'\n\\item '背對背'\n\\item '張望'\n\\item '剩下'\n\\item '倔強'\n\\item '剩下'\n\\item '合照'\n\\item '一張'\n\\item 'O'\n\\item '成為'\n\\item '彼此'\n\\item '的'\n\\item '路'\n\\item '多'\n\\item '嚮往'\n\\item '怎會'\n\\item '失去'\n\\item '方向'\n\\item '有一種悲傷'\n\\item '留在'\n\\item '我'\n\\item '過往'\n\\item '無法'\n\\item '遺忘'\n\\item '有一種悲傷'\n\\item '是'\n\\item '你'\n\\item '義無反顧'\n\\item '讓'\n\\item '愛成'\n\\item '為'\n\\item '我'\n\\item '身上'\n\\item '的'\n\\item '光'\n\\item '給我'\n\\item '溫暖'\n\\item '卻'\n\\item '不准'\n\\item '我'\n\\item '遺忘'\n\\item '有一種悲傷'\n\\item '不'\n\\item '想要'\n\\item '與'\n\\item '你'\n\\item '分開'\n\\item '思念'\n\\item '才'\n\\item '背對背'\n\\item '張望'\n\\item '你'\n\\item '是'\n\\item '所有'\n\\item '你'\n\\item '是'\n\\item '合照'\n\\item '一張'\n\\end{enumerate*}\n",
            "text/markdown": "1. '我'\n2. '不'\n3. '羨慕'\n4. '太陽'\n5. '照不亮'\n6. '你'\n7. '過往'\n8. '有些'\n9. '黑暗'\n10. '我們'\n11. '都'\n12. '一樣'\n13. '我'\n14. '太'\n15. '嫉妒'\n16. '時光'\n17. '能'\n18. '離開'\n19. '的'\n20. '大方'\n21. '不用'\n22. '開口'\n23. '也'\n24. '就'\n25. '無需'\n26. '躲藏'\n27. '有一種悲傷'\n28. '是'\n29. '你'\n30. '的'\n31. '名字'\n32. '停留'\n33. '在'\n34. '我'\n35. '的'\n36. '過往'\n37. '陪伴'\n38. '我'\n39. '呼吸'\n40. '決定'\n41. '我'\n42. '微笑'\n43. '模樣'\n44. '無法'\n45. '遺忘'\n46. '有一種悲傷'\n47. '是'\n48. '笑'\n49. '著'\n50. '與'\n51. '你'\n52. '分開'\n53. '思念'\n54. '卻'\n55. '背對背'\n56. '張望'\n57. '剩下'\n58. '倔強'\n59. '剩下'\n60. '合照'\n61. '一張'\n62. 'O'\n63. '成為'\n64. '彼此'\n65. '的'\n66. '路'\n67. '多'\n68. '嚮往'\n69. '怎會'\n70. '失去'\n71. '方向'\n72. '有一種悲傷'\n73. '留在'\n74. '我'\n75. '過往'\n76. '無法'\n77. '遺忘'\n78. '有一種悲傷'\n79. '是'\n80. '你'\n81. '義無反顧'\n82. '讓'\n83. '愛成'\n84. '為'\n85. '我'\n86. '身上'\n87. '的'\n88. '光'\n89. '給我'\n90. '溫暖'\n91. '卻'\n92. '不准'\n93. '我'\n94. '遺忘'\n95. '有一種悲傷'\n96. '不'\n97. '想要'\n98. '與'\n99. '你'\n100. '分開'\n101. '思念'\n102. '才'\n103. '背對背'\n104. '張望'\n105. '你'\n106. '是'\n107. '所有'\n108. '你'\n109. '是'\n110. '合照'\n111. '一張'\n\n\n",
            "text/html": [
              "<style>\n",
              ".list-inline {list-style: none; margin:0; padding: 0}\n",
              ".list-inline>li {display: inline-block}\n",
              ".list-inline>li:not(:last-child)::after {content: \"\\00b7\"; padding: 0 .5ex}\n",
              "</style>\n",
              "<ol class=list-inline><li>'我'</li><li>'不'</li><li>'羨慕'</li><li>'太陽'</li><li>'照不亮'</li><li>'你'</li><li>'過往'</li><li>'有些'</li><li>'黑暗'</li><li>'我們'</li><li>'都'</li><li>'一樣'</li><li>'我'</li><li>'太'</li><li>'嫉妒'</li><li>'時光'</li><li>'能'</li><li>'離開'</li><li>'的'</li><li>'大方'</li><li>'不用'</li><li>'開口'</li><li>'也'</li><li>'就'</li><li>'無需'</li><li>'躲藏'</li><li>'有一種悲傷'</li><li>'是'</li><li>'你'</li><li>'的'</li><li>'名字'</li><li>'停留'</li><li>'在'</li><li>'我'</li><li>'的'</li><li>'過往'</li><li>'陪伴'</li><li>'我'</li><li>'呼吸'</li><li>'決定'</li><li>'我'</li><li>'微笑'</li><li>'模樣'</li><li>'無法'</li><li>'遺忘'</li><li>'有一種悲傷'</li><li>'是'</li><li>'笑'</li><li>'著'</li><li>'與'</li><li>'你'</li><li>'分開'</li><li>'思念'</li><li>'卻'</li><li>'背對背'</li><li>'張望'</li><li>'剩下'</li><li>'倔強'</li><li>'剩下'</li><li>'合照'</li><li>'一張'</li><li>'O'</li><li>'成為'</li><li>'彼此'</li><li>'的'</li><li>'路'</li><li>'多'</li><li>'嚮往'</li><li>'怎會'</li><li>'失去'</li><li>'方向'</li><li>'有一種悲傷'</li><li>'留在'</li><li>'我'</li><li>'過往'</li><li>'無法'</li><li>'遺忘'</li><li>'有一種悲傷'</li><li>'是'</li><li>'你'</li><li>'義無反顧'</li><li>'讓'</li><li>'愛成'</li><li>'為'</li><li>'我'</li><li>'身上'</li><li>'的'</li><li>'光'</li><li>'給我'</li><li>'溫暖'</li><li>'卻'</li><li>'不准'</li><li>'我'</li><li>'遺忘'</li><li>'有一種悲傷'</li><li>'不'</li><li>'想要'</li><li>'與'</li><li>'你'</li><li>'分開'</li><li>'思念'</li><li>'才'</li><li>'背對背'</li><li>'張望'</li><li>'你'</li><li>'是'</li><li>'所有'</li><li>'你'</li><li>'是'</li><li>'合照'</li><li>'一張'</li></ol>\n"
            ]
          },
          "metadata": {
            "tags": []
          }
        }
      ]
    },
    {
      "cell_type": "code",
      "metadata": {
        "id": "MwBkIM12tFbm",
        "outputId": "d7e06fb4-1a8f-4282-9a50-507b5be19d1b",
        "colab": {
          "base_uri": "https://localhost:8080/"
        }
      },
      "source": [
        "install.packages(\"showtext\")"
      ],
      "execution_count": 9,
      "outputs": [
        {
          "output_type": "stream",
          "text": [
            "Installing package into ‘/usr/local/lib/R/site-library’\n",
            "(as ‘lib’ is unspecified)\n",
            "\n",
            "also installing the dependencies ‘sysfonts’, ‘showtextdb’\n",
            "\n",
            "\n"
          ],
          "name": "stderr"
        }
      ]
    },
    {
      "cell_type": "code",
      "metadata": {
        "id": "I5tdHmHctMXi",
        "outputId": "4c53e0d8-5574-4f00-b76f-f9ec0940f776",
        "colab": {
          "base_uri": "https://localhost:8080/"
        }
      },
      "source": [
        "library(showtext)"
      ],
      "execution_count": 10,
      "outputs": [
        {
          "output_type": "stream",
          "text": [
            "Loading required package: sysfonts\n",
            "\n",
            "Loading required package: showtextdb\n",
            "\n"
          ],
          "name": "stderr"
        }
      ]
    },
    {
      "cell_type": "code",
      "metadata": {
        "id": "ahi8EPFRtbts",
        "outputId": "08219b7c-fe6d-4085-ca82-fc985b25dc39",
        "colab": {
          "base_uri": "https://localhost:8080/"
        }
      },
      "source": [
        "showtext.auto(enable = TRUE)"
      ],
      "execution_count": 12,
      "outputs": [
        {
          "output_type": "stream",
          "text": [
            "'showtext.auto()' is now renamed to 'showtext_auto()'\n",
            "The old version still works, but consider using the new function in future code\n",
            "\n"
          ],
          "name": "stderr"
        }
      ]
    },
    {
      "cell_type": "code",
      "metadata": {
        "id": "5i59IR6BtSbP",
        "outputId": "e1f35367-68a3-429c-832e-4ad7dac6c53e",
        "colab": {
          "base_uri": "https://localhost:8080/",
          "height": 1000
        }
      },
      "source": [
        "par(family=(\"Microsoft YaHei\"))\n",
        "wordcloud(txt_freq$char,txt_freq$freq,min.freq=2,random.order=F,\n",
        "ordered.colors=F,colors=rainbow(nrow(txt_freq)))"
      ],
      "execution_count": 13,
      "outputs": [
        {
          "output_type": "stream",
          "text": [
            "Warning message in strwidth(words[i], cex = size[i], ...):\n",
            "“font family 'Microsoft YaHei' not found, will use 'wqy-microhei' instead”\n",
            "Warning message in strheight(words[i], cex = size[i], ...):\n",
            "“font family 'Microsoft YaHei' not found, will use 'sans' instead”\n",
            "Warning message in text.default(x1, y1, words[i], cex = size[i], offset = 0, srt = rotWord * :\n",
            "“font family 'Microsoft YaHei' not found, will use 'wqy-microhei' instead”\n",
            "Warning message in text.default(x1, y1, words[i], cex = size[i], offset = 0, srt = rotWord * :\n",
            "“font family 'Microsoft YaHei' not found, will use 'wqy-microhei' instead”\n",
            "Warning message in text.default(x1, y1, words[i], cex = size[i], offset = 0, srt = rotWord * :\n",
            "“font family 'Microsoft YaHei' not found, will use 'wqy-microhei' instead”\n",
            "Warning message in strwidth(words[i], cex = size[i], ...):\n",
            "“font family 'Microsoft YaHei' not found, will use 'wqy-microhei' instead”\n",
            "Warning message in strheight(words[i], cex = size[i], ...):\n",
            "“font family 'Microsoft YaHei' not found, will use 'sans' instead”\n",
            "Warning message in text.default(x1, y1, words[i], cex = size[i], offset = 0, srt = rotWord * :\n",
            "“font family 'Microsoft YaHei' not found, will use 'wqy-microhei' instead”\n",
            "Warning message in text.default(x1, y1, words[i], cex = size[i], offset = 0, srt = rotWord * :\n",
            "“font family 'Microsoft YaHei' not found, will use 'wqy-microhei' instead”\n",
            "Warning message in text.default(x1, y1, words[i], cex = size[i], offset = 0, srt = rotWord * :\n",
            "“font family 'Microsoft YaHei' not found, will use 'wqy-microhei' instead”\n",
            "Warning message in strwidth(words[i], cex = size[i], ...):\n",
            "“font family 'Microsoft YaHei' not found, will use 'wqy-microhei' instead”\n",
            "Warning message in strheight(words[i], cex = size[i], ...):\n",
            "“font family 'Microsoft YaHei' not found, will use 'sans' instead”\n",
            "Warning message in text.default(x1, y1, words[i], cex = size[i], offset = 0, srt = rotWord * :\n",
            "“font family 'Microsoft YaHei' not found, will use 'wqy-microhei' instead”\n",
            "Warning message in text.default(x1, y1, words[i], cex = size[i], offset = 0, srt = rotWord * :\n",
            "“font family 'Microsoft YaHei' not found, will use 'wqy-microhei' instead”\n",
            "Warning message in text.default(x1, y1, words[i], cex = size[i], offset = 0, srt = rotWord * :\n",
            "“font family 'Microsoft YaHei' not found, will use 'wqy-microhei' instead”\n",
            "Warning message in strwidth(words[i], cex = size[i], ...):\n",
            "“font family 'Microsoft YaHei' not found, will use 'wqy-microhei' instead”\n",
            "Warning message in text.default(x1, y1, words[i], cex = size[i], offset = 0, srt = rotWord * :\n",
            "“font family 'Microsoft YaHei' not found, will use 'wqy-microhei' instead”\n",
            "Warning message in text.default(x1, y1, words[i], cex = size[i], offset = 0, srt = rotWord * :\n",
            "“font family 'Microsoft YaHei' not found, will use 'wqy-microhei' instead”\n",
            "Warning message in text.default(x1, y1, words[i], cex = size[i], offset = 0, srt = rotWord * :\n",
            "“font family 'Microsoft YaHei' not found, will use 'wqy-microhei' instead”\n",
            "Warning message in strwidth(words[i], cex = size[i], ...):\n",
            "“font family 'Microsoft YaHei' not found, will use 'wqy-microhei' instead”\n",
            "Warning message in text.default(x1, y1, words[i], cex = size[i], offset = 0, srt = rotWord * :\n",
            "“font family 'Microsoft YaHei' not found, will use 'wqy-microhei' instead”\n",
            "Warning message in text.default(x1, y1, words[i], cex = size[i], offset = 0, srt = rotWord * :\n",
            "“font family 'Microsoft YaHei' not found, will use 'wqy-microhei' instead”\n",
            "Warning message in text.default(x1, y1, words[i], cex = size[i], offset = 0, srt = rotWord * :\n",
            "“font family 'Microsoft YaHei' not found, will use 'wqy-microhei' instead”\n",
            "Warning message in text.default(x1, y1, words[i], cex = size[i], offset = 0, srt = rotWord * :\n",
            "“font family 'Microsoft YaHei' not found, will use 'wqy-microhei' instead”\n",
            "Warning message in text.default(x1, y1, words[i], cex = size[i], offset = 0, srt = rotWord * :\n",
            "“font family 'Microsoft YaHei' not found, will use 'wqy-microhei' instead”\n",
            "Warning message in text.default(x1, y1, words[i], cex = size[i], offset = 0, srt = rotWord * :\n",
            "“font family 'Microsoft YaHei' not found, will use 'wqy-microhei' instead”\n",
            "Warning message in text.default(x1, y1, words[i], cex = size[i], offset = 0, srt = rotWord * :\n",
            "“font family 'Microsoft YaHei' not found, will use 'wqy-microhei' instead”\n",
            "Warning message in strwidth(words[i], cex = size[i], ...):\n",
            "“font family 'Microsoft YaHei' not found, will use 'wqy-microhei' instead”\n",
            "Warning message in strheight(words[i], cex = size[i], ...):\n",
            "“font family 'Microsoft YaHei' not found, will use 'sans' instead”\n",
            "Warning message in text.default(x1, y1, words[i], cex = size[i], offset = 0, srt = rotWord * :\n",
            "“font family 'Microsoft YaHei' not found, will use 'wqy-microhei' instead”\n",
            "Warning message in text.default(x1, y1, words[i], cex = size[i], offset = 0, srt = rotWord * :\n",
            "“font family 'Microsoft YaHei' not found, will use 'wqy-microhei' instead”\n",
            "Warning message in text.default(x1, y1, words[i], cex = size[i], offset = 0, srt = rotWord * :\n",
            "“font family 'Microsoft YaHei' not found, will use 'wqy-microhei' instead”\n",
            "Warning message in text.default(x1, y1, words[i], cex = size[i], offset = 0, srt = rotWord * :\n",
            "“font family 'Microsoft YaHei' not found, will use 'wqy-microhei' instead”\n",
            "Warning message in strwidth(words[i], cex = size[i], ...):\n",
            "“font family 'Microsoft YaHei' not found, will use 'wqy-microhei' instead”\n",
            "Warning message in text.default(x1, y1, words[i], cex = size[i], offset = 0, srt = rotWord * :\n",
            "“font family 'Microsoft YaHei' not found, will use 'wqy-microhei' instead”\n",
            "Warning message in text.default(x1, y1, words[i], cex = size[i], offset = 0, srt = rotWord * :\n",
            "“font family 'Microsoft YaHei' not found, will use 'wqy-microhei' instead”\n",
            "Warning message in text.default(x1, y1, words[i], cex = size[i], offset = 0, srt = rotWord * :\n",
            "“font family 'Microsoft YaHei' not found, will use 'wqy-microhei' instead”\n",
            "Warning message in text.default(x1, y1, words[i], cex = size[i], offset = 0, srt = rotWord * :\n",
            "“font family 'Microsoft YaHei' not found, will use 'wqy-microhei' instead”\n",
            "Warning message in strwidth(words[i], cex = size[i], ...):\n",
            "“font family 'Microsoft YaHei' not found, will use 'wqy-microhei' instead”\n",
            "Warning message in strheight(words[i], cex = size[i], ...):\n",
            "“font family 'Microsoft YaHei' not found, will use 'sans' instead”\n",
            "Warning message in text.default(x1, y1, words[i], cex = size[i], offset = 0, srt = rotWord * :\n",
            "“font family 'Microsoft YaHei' not found, will use 'wqy-microhei' instead”\n",
            "Warning message in text.default(x1, y1, words[i], cex = size[i], offset = 0, srt = rotWord * :\n",
            "“font family 'Microsoft YaHei' not found, will use 'wqy-microhei' instead”\n",
            "Warning message in text.default(x1, y1, words[i], cex = size[i], offset = 0, srt = rotWord * :\n",
            "“font family 'Microsoft YaHei' not found, will use 'wqy-microhei' instead”\n",
            "Warning message in text.default(x1, y1, words[i], cex = size[i], offset = 0, srt = rotWord * :\n",
            "“font family 'Microsoft YaHei' not found, will use 'wqy-microhei' instead”\n",
            "Warning message in strwidth(words[i], cex = size[i], ...):\n",
            "“font family 'Microsoft YaHei' not found, will use 'wqy-microhei' instead”\n",
            "Warning message in text.default(x1, y1, words[i], cex = size[i], offset = 0, srt = rotWord * :\n",
            "“font family 'Microsoft YaHei' not found, will use 'wqy-microhei' instead”\n",
            "Warning message in text.default(x1, y1, words[i], cex = size[i], offset = 0, srt = rotWord * :\n",
            "“font family 'Microsoft YaHei' not found, will use 'wqy-microhei' instead”\n",
            "Warning message in text.default(x1, y1, words[i], cex = size[i], offset = 0, srt = rotWord * :\n",
            "“font family 'Microsoft YaHei' not found, will use 'wqy-microhei' instead”\n",
            "Warning message in text.default(x1, y1, words[i], cex = size[i], offset = 0, srt = rotWord * :\n",
            "“font family 'Microsoft YaHei' not found, will use 'wqy-microhei' instead”\n",
            "Warning message in text.default(x1, y1, words[i], cex = size[i], offset = 0, srt = rotWord * :\n",
            "“font family 'Microsoft YaHei' not found, will use 'wqy-microhei' instead”\n",
            "Warning message in strwidth(words[i], cex = size[i], ...):\n",
            "“font family 'Microsoft YaHei' not found, will use 'wqy-microhei' instead”\n",
            "Warning message in text.default(x1, y1, words[i], cex = size[i], offset = 0, srt = rotWord * :\n",
            "“font family 'Microsoft YaHei' not found, will use 'wqy-microhei' instead”\n",
            "Warning message in text.default(x1, y1, words[i], cex = size[i], offset = 0, srt = rotWord * :\n",
            "“font family 'Microsoft YaHei' not found, will use 'wqy-microhei' instead”\n",
            "Warning message in text.default(x1, y1, words[i], cex = size[i], offset = 0, srt = rotWord * :\n",
            "“font family 'Microsoft YaHei' not found, will use 'wqy-microhei' instead”\n",
            "Warning message in text.default(x1, y1, words[i], cex = size[i], offset = 0, srt = rotWord * :\n",
            "“font family 'Microsoft YaHei' not found, will use 'wqy-microhei' instead”\n",
            "Warning message in strwidth(words[i], cex = size[i], ...):\n",
            "“font family 'Microsoft YaHei' not found, will use 'wqy-microhei' instead”\n",
            "Warning message in text.default(x1, y1, words[i], cex = size[i], offset = 0, srt = rotWord * :\n",
            "“font family 'Microsoft YaHei' not found, will use 'wqy-microhei' instead”\n",
            "Warning message in text.default(x1, y1, words[i], cex = size[i], offset = 0, srt = rotWord * :\n",
            "“font family 'Microsoft YaHei' not found, will use 'wqy-microhei' instead”\n",
            "Warning message in text.default(x1, y1, words[i], cex = size[i], offset = 0, srt = rotWord * :\n",
            "“font family 'Microsoft YaHei' not found, will use 'wqy-microhei' instead”\n",
            "Warning message in text.default(x1, y1, words[i], cex = size[i], offset = 0, srt = rotWord * :\n",
            "“font family 'Microsoft YaHei' not found, will use 'wqy-microhei' instead”\n",
            "Warning message in strwidth(words[i], cex = size[i], ...):\n",
            "“font family 'Microsoft YaHei' not found, will use 'wqy-microhei' instead”\n",
            "Warning message in text.default(x1, y1, words[i], cex = size[i], offset = 0, srt = rotWord * :\n",
            "“font family 'Microsoft YaHei' not found, will use 'wqy-microhei' instead”\n",
            "Warning message in text.default(x1, y1, words[i], cex = size[i], offset = 0, srt = rotWord * :\n",
            "“font family 'Microsoft YaHei' not found, will use 'wqy-microhei' instead”\n",
            "Warning message in text.default(x1, y1, words[i], cex = size[i], offset = 0, srt = rotWord * :\n",
            "“font family 'Microsoft YaHei' not found, will use 'wqy-microhei' instead”\n",
            "Warning message in strwidth(words[i], cex = size[i], ...):\n",
            "“font family 'Microsoft YaHei' not found, will use 'wqy-microhei' instead”\n",
            "Warning message in text.default(x1, y1, words[i], cex = size[i], offset = 0, srt = rotWord * :\n",
            "“font family 'Microsoft YaHei' not found, will use 'wqy-microhei' instead”\n",
            "Warning message in text.default(x1, y1, words[i], cex = size[i], offset = 0, srt = rotWord * :\n",
            "“font family 'Microsoft YaHei' not found, will use 'wqy-microhei' instead”\n",
            "Warning message in text.default(x1, y1, words[i], cex = size[i], offset = 0, srt = rotWord * :\n",
            "“font family 'Microsoft YaHei' not found, will use 'wqy-microhei' instead”\n",
            "Warning message in text.default(x1, y1, words[i], cex = size[i], offset = 0, srt = rotWord * :\n",
            "“font family 'Microsoft YaHei' not found, will use 'wqy-microhei' instead”\n",
            "Warning message in strwidth(words[i], cex = size[i], ...):\n",
            "“font family 'Microsoft YaHei' not found, will use 'wqy-microhei' instead”\n",
            "Warning message in text.default(x1, y1, words[i], cex = size[i], offset = 0, srt = rotWord * :\n",
            "“font family 'Microsoft YaHei' not found, will use 'wqy-microhei' instead”\n",
            "Warning message in text.default(x1, y1, words[i], cex = size[i], offset = 0, srt = rotWord * :\n",
            "“font family 'Microsoft YaHei' not found, will use 'wqy-microhei' instead”\n",
            "Warning message in text.default(x1, y1, words[i], cex = size[i], offset = 0, srt = rotWord * :\n",
            "“font family 'Microsoft YaHei' not found, will use 'wqy-microhei' instead”\n",
            "Warning message in text.default(x1, y1, words[i], cex = size[i], offset = 0, srt = rotWord * :\n",
            "“font family 'Microsoft YaHei' not found, will use 'wqy-microhei' instead”\n",
            "Warning message in strwidth(words[i], cex = size[i], ...):\n",
            "“font family 'Microsoft YaHei' not found, will use 'wqy-microhei' instead”\n",
            "Warning message in text.default(x1, y1, words[i], cex = size[i], offset = 0, srt = rotWord * :\n",
            "“font family 'Microsoft YaHei' not found, will use 'wqy-microhei' instead”\n",
            "Warning message in text.default(x1, y1, words[i], cex = size[i], offset = 0, srt = rotWord * :\n",
            "“font family 'Microsoft YaHei' not found, will use 'wqy-microhei' instead”\n",
            "Warning message in text.default(x1, y1, words[i], cex = size[i], offset = 0, srt = rotWord * :\n",
            "“font family 'Microsoft YaHei' not found, will use 'wqy-microhei' instead”\n",
            "Warning message in text.default(x1, y1, words[i], cex = size[i], offset = 0, srt = rotWord * :\n",
            "“font family 'Microsoft YaHei' not found, will use 'wqy-microhei' instead”\n",
            "Warning message in strwidth(words[i], cex = size[i], ...):\n",
            "“font family 'Microsoft YaHei' not found, will use 'wqy-microhei' instead”\n",
            "Warning message in text.default(x1, y1, words[i], cex = size[i], offset = 0, srt = rotWord * :\n",
            "“font family 'Microsoft YaHei' not found, will use 'wqy-microhei' instead”\n",
            "Warning message in text.default(x1, y1, words[i], cex = size[i], offset = 0, srt = rotWord * :\n",
            "“font family 'Microsoft YaHei' not found, will use 'wqy-microhei' instead”\n",
            "Warning message in text.default(x1, y1, words[i], cex = size[i], offset = 0, srt = rotWord * :\n",
            "“font family 'Microsoft YaHei' not found, will use 'wqy-microhei' instead”\n",
            "Warning message in strwidth(words[i], cex = size[i], ...):\n",
            "“font family 'Microsoft YaHei' not found, will use 'wqy-microhei' instead”\n",
            "Warning message in text.default(x1, y1, words[i], cex = size[i], offset = 0, srt = rotWord * :\n",
            "“font family 'Microsoft YaHei' not found, will use 'wqy-microhei' instead”\n",
            "Warning message in text.default(x1, y1, words[i], cex = size[i], offset = 0, srt = rotWord * :\n",
            "“font family 'Microsoft YaHei' not found, will use 'wqy-microhei' instead”\n",
            "Warning message in text.default(x1, y1, words[i], cex = size[i], offset = 0, srt = rotWord * :\n",
            "“font family 'Microsoft YaHei' not found, will use 'wqy-microhei' instead”\n",
            "Warning message in text.default(x1, y1, words[i], cex = size[i], offset = 0, srt = rotWord * :\n",
            "“font family 'Microsoft YaHei' not found, will use 'wqy-microhei' instead”\n",
            "Warning message in strwidth(words[i], cex = size[i], ...):\n",
            "“font family 'Microsoft YaHei' not found, will use 'wqy-microhei' instead”\n",
            "Warning message in text.default(x1, y1, words[i], cex = size[i], offset = 0, srt = rotWord * :\n",
            "“font family 'Microsoft YaHei' not found, will use 'wqy-microhei' instead”\n",
            "Warning message in text.default(x1, y1, words[i], cex = size[i], offset = 0, srt = rotWord * :\n",
            "“font family 'Microsoft YaHei' not found, will use 'wqy-microhei' instead”\n",
            "Warning message in text.default(x1, y1, words[i], cex = size[i], offset = 0, srt = rotWord * :\n",
            "“font family 'Microsoft YaHei' not found, will use 'wqy-microhei' instead”\n"
          ],
          "name": "stderr"
        },
        {
          "output_type": "display_data",
          "data": {
            "image/png": "[encoded data removed]",
            "text/plain": [
              "plot without title"
            ]
          },
          "metadata": {
            "tags": [],
            "image/png": {
              "width": 420,
              "height": 420
            }
          }
        }
      ]
    }
  ]
}