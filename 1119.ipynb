{
  "nbformat": 4,
  "nbformat_minor": 0,
  "metadata": {
    "colab": {
      "name": "1119.ipynb",
      "provenance": [],
      "collapsed_sections": [],
      "include_colab_link": true
    },
    "kernelspec": {
      "name": "ir",
      "display_name": "R"
    }
  },
  "cells": [
    {
      "cell_type": "markdown",
      "metadata": {
        "id": "view-in-github",
        "colab_type": "text"
      },
      "source": [
        "<a href=\"https://colab.research.google.com/github/kailee0422/Big-Data/blob/master/1119.ipynb\" target=\"_parent\"><img src=\"https://colab.research.google.com/assets/colab-badge.svg\" alt=\"Open In Colab\"/></a>"
      ]
    },
    {
      "cell_type": "code",
      "metadata": {
        "colab": {
          "base_uri": "https://localhost:8080/",
          "height": 34
        },
        "id": "JwytAKbix3cS",
        "outputId": "343961c4-3412-4e93-83ea-fa57687a5fc8"
      },
      "source": [
        "system(\"ls\", TRUE)\n"
      ],
      "execution_count": 1,
      "outputs": [
        {
          "output_type": "display_data",
          "data": {
            "text/plain": [
              "[1] \"sample_data\""
            ],
            "text/latex": "'sample\\_data'",
            "text/markdown": "'sample_data'",
            "text/html": [
              "'sample_data'"
            ]
          },
          "metadata": {
            "tags": []
          }
        }
      ]
    },
    {
      "cell_type": "code",
      "metadata": {
        "colab": {
          "base_uri": "https://localhost:8080/"
        },
        "id": "KZ3PF2ocx6_v",
        "outputId": "eb580e0c-3a92-4215-b04c-2984ad55d946"
      },
      "source": [
        "pkgs <-c(\"tidyverse\",\"lubridate\")\n",
        "install.packages(pkgs)"
      ],
      "execution_count": 2,
      "outputs": [
        {
          "output_type": "stream",
          "text": [
            "Installing packages into ‘/usr/local/lib/R/site-library’\n",
            "(as ‘lib’ is unspecified)\n",
            "\n"
          ],
          "name": "stderr"
        }
      ]
    },
    {
      "cell_type": "code",
      "metadata": {
        "colab": {
          "base_uri": "https://localhost:8080/",
          "height": 283
        },
        "id": "AADNjc5FyQgW",
        "outputId": "c697ee41-059c-41e2-f352-98b3d2cc3868"
      },
      "source": [
        "library(tidyverse)\n",
        "liberay(lubridate)"
      ],
      "execution_count": 3,
      "outputs": [
        {
          "output_type": "stream",
          "text": [
            "── \u001b[1mAttaching packages\u001b[22m ─────────────────────────────────────── tidyverse 1.3.0 ──\n",
            "\n",
            "\u001b[32m✔\u001b[39m \u001b[34mggplot2\u001b[39m 3.3.2     \u001b[32m✔\u001b[39m \u001b[34mpurrr  \u001b[39m 0.3.4\n",
            "\u001b[32m✔\u001b[39m \u001b[34mtibble \u001b[39m 3.0.4     \u001b[32m✔\u001b[39m \u001b[34mdplyr  \u001b[39m 1.0.2\n",
            "\u001b[32m✔\u001b[39m \u001b[34mtidyr  \u001b[39m 1.1.2     \u001b[32m✔\u001b[39m \u001b[34mstringr\u001b[39m 1.4.0\n",
            "\u001b[32m✔\u001b[39m \u001b[34mreadr  \u001b[39m 1.4.0     \u001b[32m✔\u001b[39m \u001b[34mforcats\u001b[39m 0.5.0\n",
            "\n",
            "── \u001b[1mConflicts\u001b[22m ────────────────────────────────────────── tidyverse_conflicts() ──\n",
            "\u001b[31m✖\u001b[39m \u001b[34mdplyr\u001b[39m::\u001b[32mfilter()\u001b[39m masks \u001b[34mstats\u001b[39m::filter()\n",
            "\u001b[31m✖\u001b[39m \u001b[34mdplyr\u001b[39m::\u001b[32mlag()\u001b[39m    masks \u001b[34mstats\u001b[39m::lag()\n",
            "\n"
          ],
          "name": "stderr"
        },
        {
          "output_type": "error",
          "ename": "ERROR",
          "evalue": "ignored",
          "traceback": [
            "Error in liberay(lubridate): could not find function \"liberay\"\nTraceback:\n"
          ]
        }
      ]
    },
    {
      "cell_type": "code",
      "metadata": {
        "id": "4386iuobySNd"
      },
      "source": [
        "nobel <-read.csv(\"nobel_winners.csv\")"
      ],
      "execution_count": 4,
      "outputs": []
    },
    {
      "cell_type": "code",
      "metadata": {
        "colab": {
          "base_uri": "https://localhost:8080/",
          "height": 197
        },
        "id": "ufvnpaLHyVzQ",
        "outputId": "4d54d62a-7aa8-4aa9-dc6e-740f7c5d4c90"
      },
      "source": [
        "nobel %>% count(category)"
      ],
      "execution_count": 5,
      "outputs": [
        {
          "output_type": "display_data",
          "data": {
            "text/plain": [
              "  category   n  \n",
              "1 Chemistry  194\n",
              "2 Economics   83\n",
              "3 Literature 113\n",
              "4 Medicine   227\n",
              "5 Peace      130\n",
              "6 Physics    222"
            ],
            "text/latex": "A data.frame: 6 × 2\n\\begin{tabular}{ll}\n category & n\\\\\n <chr> & <int>\\\\\n\\hline\n\t Chemistry  & 194\\\\\n\t Economics  &  83\\\\\n\t Literature & 113\\\\\n\t Medicine   & 227\\\\\n\t Peace      & 130\\\\\n\t Physics    & 222\\\\\n\\end{tabular}\n",
            "text/markdown": "\nA data.frame: 6 × 2\n\n| category &lt;chr&gt; | n &lt;int&gt; |\n|---|---|\n| Chemistry  | 194 |\n| Economics  |  83 |\n| Literature | 113 |\n| Medicine   | 227 |\n| Peace      | 130 |\n| Physics    | 222 |\n\n",
            "text/html": [
              "<table>\n",
              "<caption>A data.frame: 6 × 2</caption>\n",
              "<thead>\n",
              "\t<tr><th scope=col>category</th><th scope=col>n</th></tr>\n",
              "\t<tr><th scope=col>&lt;chr&gt;</th><th scope=col>&lt;int&gt;</th></tr>\n",
              "</thead>\n",
              "<tbody>\n",
              "\t<tr><td>Chemistry </td><td>194</td></tr>\n",
              "\t<tr><td>Economics </td><td> 83</td></tr>\n",
              "\t<tr><td>Literature</td><td>113</td></tr>\n",
              "\t<tr><td>Medicine  </td><td>227</td></tr>\n",
              "\t<tr><td>Peace     </td><td>130</td></tr>\n",
              "\t<tr><td>Physics   </td><td>222</td></tr>\n",
              "</tbody>\n",
              "</table>\n"
            ]
          },
          "metadata": {
            "tags": []
          }
        }
      ]
    },
    {
      "cell_type": "code",
      "metadata": {
        "colab": {
          "base_uri": "https://localhost:8080/"
        },
        "id": "7D18wuthyZk9",
        "outputId": "e1f5ad4d-4147-4127-da73-d2507a133962"
      },
      "source": [
        "install.packages(\"showtext\")\n",
        "library(showtext)\n"
      ],
      "execution_count": 6,
      "outputs": [
        {
          "output_type": "stream",
          "text": [
            "Installing package into ‘/usr/local/lib/R/site-library’\n",
            "(as ‘lib’ is unspecified)\n",
            "\n",
            "also installing the dependencies ‘sysfonts’, ‘showtextdb’\n",
            "\n",
            "\n",
            "Loading required package: sysfonts\n",
            "\n",
            "Loading required package: showtextdb\n",
            "\n"
          ],
          "name": "stderr"
        }
      ]
    },
    {
      "cell_type": "code",
      "metadata": {
        "colab": {
          "base_uri": "https://localhost:8080/"
        },
        "id": "o8EwBtykyfbg",
        "outputId": "dfc430c0-dae1-4d58-cd90-f4ead11a25b5"
      },
      "source": [
        "showtext.auto(enable = TRUE)"
      ],
      "execution_count": 7,
      "outputs": [
        {
          "output_type": "stream",
          "text": [
            "'showtext.auto()' is now renamed to 'showtext_auto()'\n",
            "The old version still works, but consider using the new function in future code\n",
            "\n"
          ],
          "name": "stderr"
        }
      ]
    },
    {
      "cell_type": "code",
      "metadata": {
        "colab": {
          "base_uri": "https://localhost:8080/",
          "height": 437
        },
        "id": "BL3QKcpGykA_",
        "outputId": "e2cc3882-b28f-49c8-e408-6e5f60825e51"
      },
      "source": [
        "nobel %>%\n",
        "  count(category) %>%\n",
        "  ggplot(aes(x = category, y = n, fill = category)) +\n",
        "  geom_col() +\n",
        "  geom_text(aes(label = n), vjust = -0.25) +\n",
        "  labs(title = \"不同學科之諾貝獎獲獎次數對比\", x = \"學科\", y = \"數量\") + theme(legend.position = \"none\")"
      ],
      "execution_count": 8,
      "outputs": [
        {
          "output_type": "display_data",
          "data": {
            "image/png": "[encoded data removed]",
            "text/plain": [
              "plot without title"
            ]
          },
          "metadata": {
            "tags": [],
            "image/png": {
              "width": 420,
              "height": 420
            }
          }
        }
      ]
    },
    {
      "cell_type": "code",
      "metadata": {
        "colab": {
          "base_uri": "https://localhost:8080/",
          "height": 437
        },
        "id": "CVK6ojY_ylVA",
        "outputId": "eef9dcda-6708-4e0f-9543-9c593b84cd8d"
      },
      "source": [
        "nobel %>%\n",
        "  count(category) %>%\n",
        "  ggplot(aes(x = fct_reorder(category, n), y = n, fill = category)) +\n",
        "  geom_col() +\n",
        "  geom_text(aes(label = n), vjust = -0.25) +\n",
        "  labs(title = \"不同學科諾貝獎獲獎次數對比\", x = \"學科\", y = \"數量\") +  theme(legend.position = \"none\")"
      ],
      "execution_count": 9,
      "outputs": [
        {
          "output_type": "display_data",
          "data": {
            "image/png": "[encoded data removed]",
            "text/plain": [
              "plot without title"
            ]
          },
          "metadata": {
            "tags": [],
            "image/png": {
              "width": 420,
              "height": 420
            }
          }
        }
      ]
    },
    {
      "cell_type": "code",
      "metadata": {
        "colab": {
          "base_uri": "https://localhost:8080/",
          "height": 1000
        },
        "id": "gky1BSnlyong",
        "outputId": "a79f4821-06df-4535-bdf9-5d0490a0ad26"
      },
      "source": [
        "nobel %>%\n",
        "  dplyr::filter(birth_country == \"United States of America\") %>%\n",
        "  dplyr::select(full_name, prize_year, category)"
      ],
      "execution_count": 10,
      "outputs": [
        {
          "output_type": "display_data",
          "data": {
            "text/plain": [
              "    full_name                 prize_year category  \n",
              "1   Theodore Roosevelt        1906       Peace     \n",
              "2   Elihu Root                1912       Peace     \n",
              "3   Theodore William Richards 1914       Chemistry \n",
              "4   Thomas Woodrow Wilson     1919       Peace     \n",
              "5   Robert Andrews Millikan   1923       Physics   \n",
              "6   Charles Gates Dawes       1925       Peace     \n",
              "7   Arthur Holly Compton      1927       Physics   \n",
              "8   Frank Billings Kellogg    1929       Peace     \n",
              "9   Sinclair Lewis            1930       Literature\n",
              "10  Jane Addams               1931       Peace     \n",
              "11  Nicholas Murray Butler    1931       Peace     \n",
              "12  Irving Langmuir           1932       Chemistry \n",
              "13  Thomas Hunt Morgan        1933       Medicine  \n",
              "14  Harold Clayton Urey       1934       Chemistry \n",
              "15  George Hoyt Whipple       1934       Medicine  \n",
              "16  George Richards Minot     1934       Medicine  \n",
              "17  William Parry Murphy      1934       Medicine  \n",
              "18  William Parry Murphy      1934       Medicine  \n",
              "19  Eugene Gladstone O'Neill  1936       Literature\n",
              "20  Carl David Anderson       1936       Physics   \n",
              "21  Clinton Joseph Davisson   1937       Physics   \n",
              "22  Pearl Buck                1938       Literature\n",
              "23  Ernest Orlando Lawrence   1939       Physics   \n",
              "24  Edward Adelbert Doisy     1943       Medicine  \n",
              "25  Joseph Erlanger           1944       Medicine  \n",
              "26  Herbert Spencer Gasser    1944       Medicine  \n",
              "27  Cordell Hull              1945       Peace     \n",
              "28  James Batcheller Sumner   1946       Chemistry \n",
              "29  John Howard Northrop      1946       Chemistry \n",
              "30  Wendell Meredith Stanley  1946       Chemistry \n",
              "⋮   ⋮                         ⋮          ⋮         \n",
              "247 Dale T. Mortensen         2010       Economics \n",
              "248 Thomas J. Sargent         2011       Economics \n",
              "249 Christopher A. Sims       2011       Economics \n",
              "250 Bruce A. Beutler          2011       Medicine  \n",
              "251 Bruce A. Beutler          2011       Medicine  \n",
              "252 Saul Perlmutter           2011       Physics   \n",
              "253 Saul Perlmutter           2011       Physics   \n",
              "254 Brian P. Schmidt          2011       Physics   \n",
              "255 Adam G. Riess             2011       Physics   \n",
              "256 Adam G. Riess             2011       Physics   \n",
              "257 Robert J. Lefkowitz       2012       Chemistry \n",
              "258 Robert J. Lefkowitz       2012       Chemistry \n",
              "259 Brian K. Kobilka          2012       Chemistry \n",
              "260 Alvin E. Roth             2012       Economics \n",
              "261 Alvin E. Roth             2012       Economics \n",
              "262 Lloyd S. Shapley          2012       Economics \n",
              "263 David J. Wineland         2012       Physics   \n",
              "264 David J. Wineland         2012       Physics   \n",
              "265 Eugene F. Fama            2013       Economics \n",
              "266 Lars Peter Hansen         2013       Economics \n",
              "267 Robert J. Shiller         2013       Economics \n",
              "268 James E. Rothman          2013       Medicine  \n",
              "269 Randy W. Schekman         2013       Medicine  \n",
              "270 Randy W. Schekman         2013       Medicine  \n",
              "271 Eric Betzig               2014       Chemistry \n",
              "272 William E. Moerner        2014       Chemistry \n",
              "273 John O'Keefe              2014       Medicine  \n",
              "274 Paul Modrich              2015       Chemistry \n",
              "275 Paul Modrich              2015       Chemistry \n",
              "276 Bob Dylan                 2016       Literature"
            ],
            "text/latex": "A data.frame: 276 × 3\n\\begin{tabular}{lll}\n full\\_name & prize\\_year & category\\\\\n <chr> & <int> & <chr>\\\\\n\\hline\n\t Theodore Roosevelt        & 1906 & Peace     \\\\\n\t Elihu Root                & 1912 & Peace     \\\\\n\t Theodore William Richards & 1914 & Chemistry \\\\\n\t Thomas Woodrow Wilson     & 1919 & Peace     \\\\\n\t Robert Andrews Millikan   & 1923 & Physics   \\\\\n\t Charles Gates Dawes       & 1925 & Peace     \\\\\n\t Arthur Holly Compton      & 1927 & Physics   \\\\\n\t Frank Billings Kellogg    & 1929 & Peace     \\\\\n\t Sinclair Lewis            & 1930 & Literature\\\\\n\t Jane Addams               & 1931 & Peace     \\\\\n\t Nicholas Murray Butler    & 1931 & Peace     \\\\\n\t Irving Langmuir           & 1932 & Chemistry \\\\\n\t Thomas Hunt Morgan        & 1933 & Medicine  \\\\\n\t Harold Clayton Urey       & 1934 & Chemistry \\\\\n\t George Hoyt Whipple       & 1934 & Medicine  \\\\\n\t George Richards Minot     & 1934 & Medicine  \\\\\n\t William Parry Murphy      & 1934 & Medicine  \\\\\n\t William Parry Murphy      & 1934 & Medicine  \\\\\n\t Eugene Gladstone O'Neill  & 1936 & Literature\\\\\n\t Carl David Anderson       & 1936 & Physics   \\\\\n\t Clinton Joseph Davisson   & 1937 & Physics   \\\\\n\t Pearl Buck                & 1938 & Literature\\\\\n\t Ernest Orlando Lawrence   & 1939 & Physics   \\\\\n\t Edward Adelbert Doisy     & 1943 & Medicine  \\\\\n\t Joseph Erlanger           & 1944 & Medicine  \\\\\n\t Herbert Spencer Gasser    & 1944 & Medicine  \\\\\n\t Cordell Hull              & 1945 & Peace     \\\\\n\t James Batcheller Sumner   & 1946 & Chemistry \\\\\n\t John Howard Northrop      & 1946 & Chemistry \\\\\n\t Wendell Meredith Stanley  & 1946 & Chemistry \\\\\n\t ⋮ & ⋮ & ⋮\\\\\n\t Dale T. Mortensen   & 2010 & Economics \\\\\n\t Thomas J. Sargent   & 2011 & Economics \\\\\n\t Christopher A. Sims & 2011 & Economics \\\\\n\t Bruce A. Beutler    & 2011 & Medicine  \\\\\n\t Bruce A. Beutler    & 2011 & Medicine  \\\\\n\t Saul Perlmutter     & 2011 & Physics   \\\\\n\t Saul Perlmutter     & 2011 & Physics   \\\\\n\t Brian P. Schmidt    & 2011 & Physics   \\\\\n\t Adam G. Riess       & 2011 & Physics   \\\\\n\t Adam G. Riess       & 2011 & Physics   \\\\\n\t Robert J. Lefkowitz & 2012 & Chemistry \\\\\n\t Robert J. Lefkowitz & 2012 & Chemistry \\\\\n\t Brian K. Kobilka    & 2012 & Chemistry \\\\\n\t Alvin E. Roth       & 2012 & Economics \\\\\n\t Alvin E. Roth       & 2012 & Economics \\\\\n\t Lloyd S. Shapley    & 2012 & Economics \\\\\n\t David J. Wineland   & 2012 & Physics   \\\\\n\t David J. Wineland   & 2012 & Physics   \\\\\n\t Eugene F. Fama      & 2013 & Economics \\\\\n\t Lars Peter Hansen   & 2013 & Economics \\\\\n\t Robert J. Shiller   & 2013 & Economics \\\\\n\t James E. Rothman    & 2013 & Medicine  \\\\\n\t Randy W. Schekman   & 2013 & Medicine  \\\\\n\t Randy W. Schekman   & 2013 & Medicine  \\\\\n\t Eric Betzig         & 2014 & Chemistry \\\\\n\t William E. Moerner  & 2014 & Chemistry \\\\\n\t John O'Keefe        & 2014 & Medicine  \\\\\n\t Paul Modrich        & 2015 & Chemistry \\\\\n\t Paul Modrich        & 2015 & Chemistry \\\\\n\t Bob Dylan           & 2016 & Literature\\\\\n\\end{tabular}\n",
            "text/markdown": "\nA data.frame: 276 × 3\n\n| full_name &lt;chr&gt; | prize_year &lt;int&gt; | category &lt;chr&gt; |\n|---|---|---|\n| Theodore Roosevelt        | 1906 | Peace      |\n| Elihu Root                | 1912 | Peace      |\n| Theodore William Richards | 1914 | Chemistry  |\n| Thomas Woodrow Wilson     | 1919 | Peace      |\n| Robert Andrews Millikan   | 1923 | Physics    |\n| Charles Gates Dawes       | 1925 | Peace      |\n| Arthur Holly Compton      | 1927 | Physics    |\n| Frank Billings Kellogg    | 1929 | Peace      |\n| Sinclair Lewis            | 1930 | Literature |\n| Jane Addams               | 1931 | Peace      |\n| Nicholas Murray Butler    | 1931 | Peace      |\n| Irving Langmuir           | 1932 | Chemistry  |\n| Thomas Hunt Morgan        | 1933 | Medicine   |\n| Harold Clayton Urey       | 1934 | Chemistry  |\n| George Hoyt Whipple       | 1934 | Medicine   |\n| George Richards Minot     | 1934 | Medicine   |\n| William Parry Murphy      | 1934 | Medicine   |\n| William Parry Murphy      | 1934 | Medicine   |\n| Eugene Gladstone O'Neill  | 1936 | Literature |\n| Carl David Anderson       | 1936 | Physics    |\n| Clinton Joseph Davisson   | 1937 | Physics    |\n| Pearl Buck                | 1938 | Literature |\n| Ernest Orlando Lawrence   | 1939 | Physics    |\n| Edward Adelbert Doisy     | 1943 | Medicine   |\n| Joseph Erlanger           | 1944 | Medicine   |\n| Herbert Spencer Gasser    | 1944 | Medicine   |\n| Cordell Hull              | 1945 | Peace      |\n| James Batcheller Sumner   | 1946 | Chemistry  |\n| John Howard Northrop      | 1946 | Chemistry  |\n| Wendell Meredith Stanley  | 1946 | Chemistry  |\n| ⋮ | ⋮ | ⋮ |\n| Dale T. Mortensen   | 2010 | Economics  |\n| Thomas J. Sargent   | 2011 | Economics  |\n| Christopher A. Sims | 2011 | Economics  |\n| Bruce A. Beutler    | 2011 | Medicine   |\n| Bruce A. Beutler    | 2011 | Medicine   |\n| Saul Perlmutter     | 2011 | Physics    |\n| Saul Perlmutter     | 2011 | Physics    |\n| Brian P. Schmidt    | 2011 | Physics    |\n| Adam G. Riess       | 2011 | Physics    |\n| Adam G. Riess       | 2011 | Physics    |\n| Robert J. Lefkowitz | 2012 | Chemistry  |\n| Robert J. Lefkowitz | 2012 | Chemistry  |\n| Brian K. Kobilka    | 2012 | Chemistry  |\n| Alvin E. Roth       | 2012 | Economics  |\n| Alvin E. Roth       | 2012 | Economics  |\n| Lloyd S. Shapley    | 2012 | Economics  |\n| David J. Wineland   | 2012 | Physics    |\n| David J. Wineland   | 2012 | Physics    |\n| Eugene F. Fama      | 2013 | Economics  |\n| Lars Peter Hansen   | 2013 | Economics  |\n| Robert J. Shiller   | 2013 | Economics  |\n| James E. Rothman    | 2013 | Medicine   |\n| Randy W. Schekman   | 2013 | Medicine   |\n| Randy W. Schekman   | 2013 | Medicine   |\n| Eric Betzig         | 2014 | Chemistry  |\n| William E. Moerner  | 2014 | Chemistry  |\n| John O'Keefe        | 2014 | Medicine   |\n| Paul Modrich        | 2015 | Chemistry  |\n| Paul Modrich        | 2015 | Chemistry  |\n| Bob Dylan           | 2016 | Literature |\n\n",
            "text/html": [
              "<table>\n",
              "<caption>A data.frame: 276 × 3</caption>\n",
              "<thead>\n",
              "\t<tr><th scope=col>full_name</th><th scope=col>prize_year</th><th scope=col>category</th></tr>\n",
              "\t<tr><th scope=col>&lt;chr&gt;</th><th scope=col>&lt;int&gt;</th><th scope=col>&lt;chr&gt;</th></tr>\n",
              "</thead>\n",
              "<tbody>\n",
              "\t<tr><td>Theodore Roosevelt       </td><td>1906</td><td>Peace     </td></tr>\n",
              "\t<tr><td>Elihu Root               </td><td>1912</td><td>Peace     </td></tr>\n",
              "\t<tr><td>Theodore William Richards</td><td>1914</td><td>Chemistry </td></tr>\n",
              "\t<tr><td>Thomas Woodrow Wilson    </td><td>1919</td><td>Peace     </td></tr>\n",
              "\t<tr><td>Robert Andrews Millikan  </td><td>1923</td><td>Physics   </td></tr>\n",
              "\t<tr><td>Charles Gates Dawes      </td><td>1925</td><td>Peace     </td></tr>\n",
              "\t<tr><td>Arthur Holly Compton     </td><td>1927</td><td>Physics   </td></tr>\n",
              "\t<tr><td>Frank Billings Kellogg   </td><td>1929</td><td>Peace     </td></tr>\n",
              "\t<tr><td>Sinclair Lewis           </td><td>1930</td><td>Literature</td></tr>\n",
              "\t<tr><td>Jane Addams              </td><td>1931</td><td>Peace     </td></tr>\n",
              "\t<tr><td>Nicholas Murray Butler   </td><td>1931</td><td>Peace     </td></tr>\n",
              "\t<tr><td>Irving Langmuir          </td><td>1932</td><td>Chemistry </td></tr>\n",
              "\t<tr><td>Thomas Hunt Morgan       </td><td>1933</td><td>Medicine  </td></tr>\n",
              "\t<tr><td>Harold Clayton Urey      </td><td>1934</td><td>Chemistry </td></tr>\n",
              "\t<tr><td>George Hoyt Whipple      </td><td>1934</td><td>Medicine  </td></tr>\n",
              "\t<tr><td>George Richards Minot    </td><td>1934</td><td>Medicine  </td></tr>\n",
              "\t<tr><td>William Parry Murphy     </td><td>1934</td><td>Medicine  </td></tr>\n",
              "\t<tr><td>William Parry Murphy     </td><td>1934</td><td>Medicine  </td></tr>\n",
              "\t<tr><td>Eugene Gladstone O'Neill </td><td>1936</td><td>Literature</td></tr>\n",
              "\t<tr><td>Carl David Anderson      </td><td>1936</td><td>Physics   </td></tr>\n",
              "\t<tr><td>Clinton Joseph Davisson  </td><td>1937</td><td>Physics   </td></tr>\n",
              "\t<tr><td>Pearl Buck               </td><td>1938</td><td>Literature</td></tr>\n",
              "\t<tr><td>Ernest Orlando Lawrence  </td><td>1939</td><td>Physics   </td></tr>\n",
              "\t<tr><td>Edward Adelbert Doisy    </td><td>1943</td><td>Medicine  </td></tr>\n",
              "\t<tr><td>Joseph Erlanger          </td><td>1944</td><td>Medicine  </td></tr>\n",
              "\t<tr><td>Herbert Spencer Gasser   </td><td>1944</td><td>Medicine  </td></tr>\n",
              "\t<tr><td>Cordell Hull             </td><td>1945</td><td>Peace     </td></tr>\n",
              "\t<tr><td>James Batcheller Sumner  </td><td>1946</td><td>Chemistry </td></tr>\n",
              "\t<tr><td>John Howard Northrop     </td><td>1946</td><td>Chemistry </td></tr>\n",
              "\t<tr><td>Wendell Meredith Stanley </td><td>1946</td><td>Chemistry </td></tr>\n",
              "\t<tr><td>⋮</td><td>⋮</td><td>⋮</td></tr>\n",
              "\t<tr><td>Dale T. Mortensen  </td><td>2010</td><td>Economics </td></tr>\n",
              "\t<tr><td>Thomas J. Sargent  </td><td>2011</td><td>Economics </td></tr>\n",
              "\t<tr><td>Christopher A. Sims</td><td>2011</td><td>Economics </td></tr>\n",
              "\t<tr><td>Bruce A. Beutler   </td><td>2011</td><td>Medicine  </td></tr>\n",
              "\t<tr><td>Bruce A. Beutler   </td><td>2011</td><td>Medicine  </td></tr>\n",
              "\t<tr><td>Saul Perlmutter    </td><td>2011</td><td>Physics   </td></tr>\n",
              "\t<tr><td>Saul Perlmutter    </td><td>2011</td><td>Physics   </td></tr>\n",
              "\t<tr><td>Brian P. Schmidt   </td><td>2011</td><td>Physics   </td></tr>\n",
              "\t<tr><td>Adam G. Riess      </td><td>2011</td><td>Physics   </td></tr>\n",
              "\t<tr><td>Adam G. Riess      </td><td>2011</td><td>Physics   </td></tr>\n",
              "\t<tr><td>Robert J. Lefkowitz</td><td>2012</td><td>Chemistry </td></tr>\n",
              "\t<tr><td>Robert J. Lefkowitz</td><td>2012</td><td>Chemistry </td></tr>\n",
              "\t<tr><td>Brian K. Kobilka   </td><td>2012</td><td>Chemistry </td></tr>\n",
              "\t<tr><td>Alvin E. Roth      </td><td>2012</td><td>Economics </td></tr>\n",
              "\t<tr><td>Alvin E. Roth      </td><td>2012</td><td>Economics </td></tr>\n",
              "\t<tr><td>Lloyd S. Shapley   </td><td>2012</td><td>Economics </td></tr>\n",
              "\t<tr><td>David J. Wineland  </td><td>2012</td><td>Physics   </td></tr>\n",
              "\t<tr><td>David J. Wineland  </td><td>2012</td><td>Physics   </td></tr>\n",
              "\t<tr><td>Eugene F. Fama     </td><td>2013</td><td>Economics </td></tr>\n",
              "\t<tr><td>Lars Peter Hansen  </td><td>2013</td><td>Economics </td></tr>\n",
              "\t<tr><td>Robert J. Shiller  </td><td>2013</td><td>Economics </td></tr>\n",
              "\t<tr><td>James E. Rothman   </td><td>2013</td><td>Medicine  </td></tr>\n",
              "\t<tr><td>Randy W. Schekman  </td><td>2013</td><td>Medicine  </td></tr>\n",
              "\t<tr><td>Randy W. Schekman  </td><td>2013</td><td>Medicine  </td></tr>\n",
              "\t<tr><td>Eric Betzig        </td><td>2014</td><td>Chemistry </td></tr>\n",
              "\t<tr><td>William E. Moerner </td><td>2014</td><td>Chemistry </td></tr>\n",
              "\t<tr><td>John O'Keefe       </td><td>2014</td><td>Medicine  </td></tr>\n",
              "\t<tr><td>Paul Modrich       </td><td>2015</td><td>Chemistry </td></tr>\n",
              "\t<tr><td>Paul Modrich       </td><td>2015</td><td>Chemistry </td></tr>\n",
              "\t<tr><td>Bob Dylan          </td><td>2016</td><td>Literature</td></tr>\n",
              "</tbody>\n",
              "</table>\n"
            ]
          },
          "metadata": {
            "tags": []
          }
        }
      ]
    },
    {
      "cell_type": "code",
      "metadata": {
        "colab": {
          "base_uri": "https://localhost:8080/",
          "height": 89
        },
        "id": "pDhY5mXYyr6S",
        "outputId": "a0351647-fa07-4c92-dcb5-f777e6e2f03d"
      },
      "source": [
        "nobel %>%\n",
        "  dplyr::filter(birth_country == \"Taiwan\") %>%\n",
        "  dplyr::select(full_name, prize_year, category)"
      ],
      "execution_count": 11,
      "outputs": [
        {
          "output_type": "display_data",
          "data": {
            "text/plain": [
              "  full_name   prize_year category \n",
              "1 Yuan T. Lee 1986       Chemistry"
            ],
            "text/latex": "A data.frame: 1 × 3\n\\begin{tabular}{lll}\n full\\_name & prize\\_year & category\\\\\n <chr> & <int> & <chr>\\\\\n\\hline\n\t Yuan T. Lee & 1986 & Chemistry\\\\\n\\end{tabular}\n",
            "text/markdown": "\nA data.frame: 1 × 3\n\n| full_name &lt;chr&gt; | prize_year &lt;int&gt; | category &lt;chr&gt; |\n|---|---|---|\n| Yuan T. Lee | 1986 | Chemistry |\n\n",
            "text/html": [
              "<table>\n",
              "<caption>A data.frame: 1 × 3</caption>\n",
              "<thead>\n",
              "\t<tr><th scope=col>full_name</th><th scope=col>prize_year</th><th scope=col>category</th></tr>\n",
              "\t<tr><th scope=col>&lt;chr&gt;</th><th scope=col>&lt;int&gt;</th><th scope=col>&lt;chr&gt;</th></tr>\n",
              "</thead>\n",
              "<tbody>\n",
              "\t<tr><td>Yuan T. Lee</td><td>1986</td><td>Chemistry</td></tr>\n",
              "</tbody>\n",
              "</table>\n"
            ]
          },
          "metadata": {
            "tags": []
          }
        }
      ]
    },
    {
      "cell_type": "code",
      "metadata": {
        "colab": {
          "base_uri": "https://localhost:8080/",
          "height": 1000
        },
        "id": "GD3bBKhvy43_",
        "outputId": "c89157ac-b0fe-45d6-bcfe-c6f329b6c14d"
      },
      "source": [
        "nobel_winners <- nobel %>%\n",
        "  mutate_if(is.character, tolower) %>%\n",
        "  distinct_at(vars(full_name, prize_year, category), .keep_all = TRUE) %>%\n",
        "  mutate(\n",
        "    decade = 10 * (prize_year %/% 10),\n",
        "    prize_age = prize_year - year(birth_date)\n",
        "  )\n",
        "\n",
        "nobel_winners"
      ],
      "execution_count": 12,
      "outputs": [
        {
          "output_type": "error",
          "ename": "ERROR",
          "evalue": "ignored",
          "traceback": [
            "Error: Problem with `mutate()` input `prize_age`.\n\u001b[31m✖\u001b[39m could not find function \"year\"\n\u001b[34mℹ\u001b[39m Input `prize_age` is `prize_year - year(birth_date)`.\nTraceback:\n",
            "1. nobel %>% mutate_if(is.character, tolower) %>% distinct_at(vars(full_name, \n .     prize_year, category), .keep_all = TRUE) %>% mutate(decade = 10 * \n .     (prize_year%/%10), prize_age = prize_year - year(birth_date))",
            "2. withVisible(eval(quote(`_fseq`(`_lhs`)), env, env))",
            "3. eval(quote(`_fseq`(`_lhs`)), env, env)",
            "4. eval(quote(`_fseq`(`_lhs`)), env, env)",
            "5. `_fseq`(`_lhs`)",
            "6. freduce(value, `_function_list`)",
            "7. withVisible(function_list[[k]](value))",
            "8. function_list[[k]](value)",
            "9. mutate(., decade = 10 * (prize_year%/%10), prize_age = prize_year - \n .     year(birth_date))",
            "10. mutate.data.frame(., decade = 10 * (prize_year%/%10), prize_age = prize_year - \n  .     year(birth_date))",
            "11. mutate_cols(.data, ...)",
            "12. withCallingHandlers({\n  .     for (i in seq_along(dots)) {\n  .         not_named <- (is.null(dots_names) || dots_names[i] == \n  .             \"\")\n  .         chunks <- NULL\n  .         result <- NULL\n  .         if (quo_is_symbol(dots[[i]])) {\n  .             name <- as_string(quo_get_expr(dots[[i]]))\n  .             if (name %in% names(new_columns)) {\n  .                 result <- new_columns[[name]]\n  .                 chunks <- mask$get_resolved(name)\n  .             }\n  .             else if (name %in% names(.data)) {\n  .                 result <- .data[[name]]\n  .                 chunks <- mask$resolve(name)\n  .             }\n  .             if (inherits(.data, \"rowwise_df\") && vec_is_list(result)) {\n  .                 sizes <- list_sizes(result)\n  .                 wrong <- which(sizes != 1)\n  .                 if (length(wrong)) {\n  .                   group <- wrong[1L]\n  .                   mask$set_current_group(group)\n  .                   abort(x_size = sizes[group], class = \"dplyr:::mutate_incompatible_size\")\n  .                 }\n  .             }\n  .         }\n  .         if (is.null(chunks)) {\n  .             chunks <- mask$eval_all_mutate(dots[[i]])\n  .         }\n  .         mask$across_cache_reset()\n  .         if (is.null(chunks)) {\n  .             if (!is.null(dots_names) && dots_names[i] != \"\") {\n  .                 new_columns[[dots_names[i]]] <- zap()\n  .                 mask$remove(dots_names[i])\n  .             }\n  .             next\n  .         }\n  .         if (is.null(result)) {\n  .             if (length(rows) == 1) {\n  .                 result <- chunks[[1]]\n  .             }\n  .             else {\n  .                 result <- withCallingHandlers(vec_unchop(chunks, \n  .                   rows), vctrs_error_incompatible_type = function(cnd) {\n  .                   abort(class = \"dplyr:::error_mutate_incompatible_combine\", \n  .                     parent = cnd)\n  .                 })\n  .             }\n  .         }\n  .         if (not_named && is.data.frame(result)) {\n  .             new_columns[names(result)] <- result\n  .             map2(seq_along(result), names(result), function(i, \n  .                 nm) {\n  .                 mask$add(nm, pluck(chunks, i))\n  .             })\n  .         }\n  .         else {\n  .             name <- if (not_named) \n  .                 auto_named_dots[i]\n  .             else dots_names[i]\n  .             new_columns[[name]] <- result\n  .             mask$add(name, chunks)\n  .         }\n  .     }\n  . }, error = function(e) {\n  .     local_call_step(dots = dots, .index = i, .fn = \"mutate\", \n  .         .dot_data = inherits(e, \"rlang_error_data_pronoun_not_found\"))\n  .     call_step_envir <- peek_call_step()\n  .     error_name <- call_step_envir$error_name\n  .     error_expression <- call_step_envir$error_expression\n  .     show_group_details <- TRUE\n  .     if (inherits(e, \"dplyr:::mutate_incompatible_size\")) {\n  .         size <- vec_size(rows[[i]])\n  .         x_size <- e$x_size\n  .         bullets <- c(x = glue(\"Input `{error_name}` can't be recycled to size {size}.\"), \n  .             i = cnd_bullet_input_info(), i = glue(\"Input `{error_name}` must be size {or_1(size)}, not {x_size}.\"), \n  .             i = cnd_bullet_rowwise_unlist())\n  .     }\n  .     else if (inherits(e, \"dplyr:::mutate_mixed_null\")) {\n  .         show_group_details <- FALSE\n  .         bullets <- c(x = glue(\"`{error_name}` must return compatible vectors across groups.\"), \n  .             i = cnd_bullet_input_info(), i = \"Cannot combine NULL and non NULL results.\", \n  .             i = cnd_bullet_rowwise_unlist())\n  .     }\n  .     else if (inherits(e, \"dplyr:::mutate_not_vector\")) {\n  .         bullets <- c(x = glue(\"Input `{error_name}` must be a vector, not {friendly_type_of(e$result)}.\"), \n  .             i = cnd_bullet_input_info(), i = cnd_bullet_rowwise_unlist())\n  .     }\n  .     else if (inherits(e, \"dplyr:::error_mutate_incompatible_combine\")) {\n  .         show_group_details <- FALSE\n  .         bullets <- c(x = glue(\"Input `{error_name}` must return compatible vectors across groups\"), \n  .             i = cnd_bullet_input_info(), i = cnd_bullet_combine_details(e$parent$x, \n  .                 e$parent$x_arg), i = cnd_bullet_combine_details(e$parent$y, \n  .                 e$parent$y_arg))\n  .     }\n  .     else {\n  .         bullets <- c(x = conditionMessage(e), i = cnd_bullet_input_info())\n  .     }\n  .     abort(c(cnd_bullet_header(), bullets, i = if (show_group_details) cnd_bullet_cur_group_label()), \n  .         class = c(\"dplyr:::mutate_error\", \"dplyr_error\"), error_name = error_name, \n  .         error_expression = error_expression)\n  . }, warning = function(w) {\n  .     local_call_step(dots = dots, .index = i, .fn = \"mutate\")\n  .     warn(c(cnd_bullet_header(), i = conditionMessage(w), i = cnd_bullet_input_info(), \n  .         i = cnd_bullet_cur_group_label()))\n  . })",
            "13. mask$eval_all_mutate(dots[[i]])",
            "14. .handleSimpleError(function (e) \n  . {\n  .     local_call_step(dots = dots, .index = i, .fn = \"mutate\", \n  .         .dot_data = inherits(e, \"rlang_error_data_pronoun_not_found\"))\n  .     call_step_envir <- peek_call_step()\n  .     error_name <- call_step_envir$error_name\n  .     error_expression <- call_step_envir$error_expression\n  .     show_group_details <- TRUE\n  .     if (inherits(e, \"dplyr:::mutate_incompatible_size\")) {\n  .         size <- vec_size(rows[[i]])\n  .         x_size <- e$x_size\n  .         bullets <- c(x = glue(\"Input `{error_name}` can't be recycled to size {size}.\"), \n  .             i = cnd_bullet_input_info(), i = glue(\"Input `{error_name}` must be size {or_1(size)}, not {x_size}.\"), \n  .             i = cnd_bullet_rowwise_unlist())\n  .     }\n  .     else if (inherits(e, \"dplyr:::mutate_mixed_null\")) {\n  .         show_group_details <- FALSE\n  .         bullets <- c(x = glue(\"`{error_name}` must return compatible vectors across groups.\"), \n  .             i = cnd_bullet_input_info(), i = \"Cannot combine NULL and non NULL results.\", \n  .             i = cnd_bullet_rowwise_unlist())\n  .     }\n  .     else if (inherits(e, \"dplyr:::mutate_not_vector\")) {\n  .         bullets <- c(x = glue(\"Input `{error_name}` must be a vector, not {friendly_type_of(e$result)}.\"), \n  .             i = cnd_bullet_input_info(), i = cnd_bullet_rowwise_unlist())\n  .     }\n  .     else if (inherits(e, \"dplyr:::error_mutate_incompatible_combine\")) {\n  .         show_group_details <- FALSE\n  .         bullets <- c(x = glue(\"Input `{error_name}` must return compatible vectors across groups\"), \n  .             i = cnd_bullet_input_info(), i = cnd_bullet_combine_details(e$parent$x, \n  .                 e$parent$x_arg), i = cnd_bullet_combine_details(e$parent$y, \n  .                 e$parent$y_arg))\n  .     }\n  .     else {\n  .         bullets <- c(x = conditionMessage(e), i = cnd_bullet_input_info())\n  .     }\n  .     abort(c(cnd_bullet_header(), bullets, i = if (show_group_details) cnd_bullet_cur_group_label()), \n  .         class = c(\"dplyr:::mutate_error\", \"dplyr_error\"), error_name = error_name, \n  .         error_expression = error_expression)\n  . }, \"could not find function \\\"year\\\"\", base::quote(year(birth_date)))",
            "15. h(simpleError(msg, call))",
            "16. abort(c(cnd_bullet_header(), bullets, i = if (show_group_details) cnd_bullet_cur_group_label()), \n  .     class = c(\"dplyr:::mutate_error\", \"dplyr_error\"), error_name = error_name, \n  .     error_expression = error_expression)",
            "17. signal_abort(cnd)"
          ]
        }
      ]
    },
    {
      "cell_type": "code",
      "metadata": {
        "colab": {
          "base_uri": "https://localhost:8080/",
          "height": 164
        },
        "id": "XAlEcyzcy9Xe",
        "outputId": "be8a4e14-df0e-454d-f63d-39723b55b91d"
      },
      "source": [
        "nobel_winners %>% count(full_name, sort = T)\n"
      ],
      "execution_count": 13,
      "outputs": [
        {
          "output_type": "error",
          "ename": "ERROR",
          "evalue": "ignored",
          "traceback": [
            "Error in eval(lhs, parent, parent): object 'nobel_winners' not found\nTraceback:\n",
            "1. nobel_winners %>% count(full_name, sort = T)",
            "2. eval(lhs, parent, parent)",
            "3. eval(lhs, parent, parent)"
          ]
        }
      ]
    },
    {
      "cell_type": "code",
      "metadata": {
        "colab": {
          "base_uri": "https://localhost:8080/",
          "height": 181
        },
        "id": "TQiLFH_0zDzb",
        "outputId": "02789cb8-6330-4dbd-ea3d-8e709fc58273"
      },
      "source": [
        "nobel_winners %>%\n",
        "  count(prize_age) %>%\n",
        "  ggplot(aes(x = prize_age, y = n)) +\n",
        "  geom_col()"
      ],
      "execution_count": 14,
      "outputs": [
        {
          "output_type": "error",
          "ename": "ERROR",
          "evalue": "ignored",
          "traceback": [
            "Error in eval(lhs, parent, parent): object 'nobel_winners' not found\nTraceback:\n",
            "1. nobel_winners %>% count(prize_age) %>% ggplot(aes(x = prize_age, \n .     y = n))",
            "2. eval(lhs, parent, parent)",
            "3. eval(lhs, parent, parent)"
          ]
        }
      ]
    },
    {
      "cell_type": "code",
      "metadata": {
        "colab": {
          "base_uri": "https://localhost:8080/",
          "height": 198
        },
        "id": "CoiKvN7NzNFH",
        "outputId": "766eb29b-d737-49e9-db55-92ff8d21230d"
      },
      "source": [
        "\n",
        "nobel_winners %>%\n",
        "  group_by(category) %>%\n",
        "  summarise(mean_prize_age = mean(prize_age, na.rm = T))"
      ],
      "execution_count": 15,
      "outputs": [
        {
          "output_type": "error",
          "ename": "ERROR",
          "evalue": "ignored",
          "traceback": [
            "Error in eval(lhs, parent, parent): object 'nobel_winners' not found\nTraceback:\n",
            "1. nobel_winners %>% group_by(category) %>% summarise(mean_prize_age = mean(prize_age, \n .     na.rm = T))",
            "2. eval(lhs, parent, parent)",
            "3. eval(lhs, parent, parent)"
          ]
        }
      ]
    },
    {
      "cell_type": "code",
      "metadata": {
        "id": "GkIJDXlkzSl5"
      },
      "source": [
        "\n",
        "nobel_winners %>%\n",
        "  mutate(category = fct_reorder(category, prize_age, median, na.rm = TRUE)) %>%\n",
        "  ggplot(aes(category, prize_age)) +\n",
        "  geom_point() +\n",
        "  geom_boxplot() +\n",
        "  coord_flip()"
      ],
      "execution_count": null,
      "outputs": []
    },
    {
      "cell_type": "code",
      "metadata": {
        "id": "c0jgw4u2zYFM"
      },
      "source": [
        "install.packages(\"ggridges\")\n"
      ],
      "execution_count": null,
      "outputs": []
    },
    {
      "cell_type": "code",
      "metadata": {
        "id": "BEBZLH4LzcQu"
      },
      "source": [
        "library(ggridges)\n",
        "\n",
        "nobel_winners %>%\n",
        "  ggplot(aes(\n",
        "    x = prize_age,\n",
        "    y = category,\n",
        "    fill = category\n",
        "  )) +\n",
        "  geom_density_ridges()"
      ],
      "execution_count": null,
      "outputs": []
    },
    {
      "cell_type": "code",
      "metadata": {
        "id": "5aBZHlQmzg0m"
      },
      "source": [
        "nobel_winners %>%\n",
        "  dplyr::filter(laureate_type == \"individual\") %>%\n",
        "  count(category, gender) %>%\n",
        "  group_by(category) %>%\n",
        "  mutate(prop = n / sum(n))"
      ],
      "execution_count": null,
      "outputs": []
    },
    {
      "cell_type": "code",
      "metadata": {
        "id": "uKOi6MSGzlAd"
      },
      "source": [
        "nobel_winners %>%\n",
        "  dplyr::filter(laureate_type == \"individual\") %>%\n",
        "  # mutate(decade = glue::glue(\"{round(prize_year - 1, -1)}s\")) %>%\n",
        "  count(decade, category, gender) %>%\n",
        "  group_by(decade, category) %>%\n",
        "  mutate(prop = n / sum(n)) %>%\n",
        "  ggplot(aes(decade, category, fill = prop)) +\n",
        "  geom_tile(size = 0.7) +\n",
        "  # geom_text(aes(label = scales::percent(prop, accuracy = .01))) +\n",
        "  geom_text(aes(label = scales::number(prop, accuracy = .01))) +\n",
        "  facet_grid(vars(gender)) +\n",
        "  scale_fill_gradient(low = \"#FDF4E9\", high = \"#834C0D\")"
      ],
      "execution_count": null,
      "outputs": []
    },
    {
      "cell_type": "code",
      "metadata": {
        "id": "aARB9TUJzqKf"
      },
      "source": [
        "\n",
        "install.packages(\"ggbeeswarm\")\n",
        "library(ggbeeswarm)  \n",
        "\n",
        "nobel_winners %>%\n",
        "  ggplot(aes(\n",
        "    x = category,\n",
        "    y = prize_age,\n",
        "    colour = gender,\n",
        "    alpha = gender\n",
        "  )) +\n",
        "  ggbeeswarm::geom_beeswarm() +\n",
        "  coord_flip() +\n",
        "  scale_color_manual(values = c(\"#BB1288\", \"#5867A6\")) +\n",
        "  scale_alpha_manual(values = c(1, .4)) +\n",
        "  theme_minimal() +\n",
        "  theme(legend.position = \"top\") +\n",
        "  labs(\n",
        "    title = \"諾獎獲得者性別不平衡\",\n",
        "    subtitle = \"1901年-2016年數據\",\n",
        "    colour = \"Gender\",\n",
        "    alpha = \"Gender\",\n",
        "    x = \"學科\",\n",
        "    y = \"獲獎年齡\"\n",
        "  )"
      ],
      "execution_count": null,
      "outputs": []
    },
    {
      "cell_type": "code",
      "metadata": {
        "id": "i1QXCpD4zvvs"
      },
      "source": [
        "\n",
        "nobel_winners %>%\n",
        "  count(decade,\n",
        "    category,\n",
        "    gender = coalesce(gender, laureate_type)\n",
        "  ) %>%\n",
        "  group_by(decade, category) %>%\n",
        "  mutate(percent = n / sum(n)) %>%\n",
        "  ggplot(aes(decade, n, fill = gender)) +\n",
        "  geom_col() +\n",
        "  facet_wrap(~category) +\n",
        "  labs(\n",
        "    x = \"Decade\",\n",
        "    y = \"# of nobel prize winners\",\n",
        "    fill = \"Gender\",\n",
        "    title = \"Nobel Prize gender distribution over time\"\n",
        "  )"
      ],
      "execution_count": null,
      "outputs": []
    },
    {
      "cell_type": "code",
      "metadata": {
        "id": "BkqinxKmzzFB"
      },
      "source": [
        "nobel_winners %>%\n",
        "  select(category, birth_date) %>%\n",
        "  mutate(year = floor(year(birth_date) / 10) * 10) %>%\n",
        "  count(category, year) %>%\n",
        "  dplyr::filter(!is.na(year)) %>%\n",
        "  ggplot(aes(x = year, y = n)) +\n",
        "  geom_col() +\n",
        "  scale_x_continuous(breaks = seq(1810, 1990, 20)) +\n",
        "  geom_text(aes(label = n), vjust = -0.25) +\n",
        "  facet_wrap(vars(category))"
      ],
      "execution_count": null,
      "outputs": []
    }
  ]
}