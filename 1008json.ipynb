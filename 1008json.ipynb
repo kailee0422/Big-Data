{
  "nbformat": 4,
  "nbformat_minor": 0,
  "metadata": {
    "colab": {
      "name": "1008json.ipynb",
      "provenance": [],
      "collapsed_sections": [],
      "include_colab_link": true
    },
    "kernelspec": {
      "name": "ir",
      "display_name": "R"
    }
  },
  "cells": [
    {
      "cell_type": "markdown",
      "metadata": {
        "id": "view-in-github",
        "colab_type": "text"
      },
      "source": [
        "<a href=\"https://colab.research.google.com/github/kailee0422/Big-Data/blob/master/1008json.ipynb\" target=\"_parent\"><img src=\"https://colab.research.google.com/assets/colab-badge.svg\" alt=\"Open In Colab\"/></a>"
      ]
    },
    {
      "cell_type": "code",
      "metadata": {
        "id": "6uN1Nw27Rc5w",
        "outputId": "9dbbd7bf-7cbb-4b80-dd1f-9c4bef395874",
        "colab": {
          "base_uri": "https://localhost:8080/",
          "height": 68
        }
      },
      "source": [
        "install.packages(\"jsonlite\")"
      ],
      "execution_count": 3,
      "outputs": [
        {
          "output_type": "stream",
          "text": [
            "Installing package into ‘/usr/local/lib/R/site-library’\n",
            "(as ‘lib’ is unspecified)\n",
            "\n"
          ],
          "name": "stderr"
        }
      ]
    },
    {
      "cell_type": "code",
      "metadata": {
        "id": "4g7YVZRBjs13"
      },
      "source": [
        "library(\"jsonlite\")"
      ],
      "execution_count": 1,
      "outputs": []
    },
    {
      "cell_type": "code",
      "metadata": {
        "id": "4hMl8dJ-8c-L"
      },
      "source": [
        "PetData<-jsonlite::fromJSON(\"http://data.taipei/opendata/datalist/apiAccess?scope=resourceAquire&rid=f4a75ba9-7721-4363-884d-c3820b0b917c\")"
      ],
      "execution_count": 2,
      "outputs": []
    },
    {
      "cell_type": "code",
      "metadata": {
        "id": "i4FkUsp49OSZ",
        "outputId": "d3b43ecb-5462-4863-fb81-ac4e0f155227",
        "colab": {
          "base_uri": "https://localhost:8080/",
          "height": 714
        }
      },
      "source": [
        "head(PetData$result$results)"
      ],
      "execution_count": 3,
      "outputs": [
        {
          "output_type": "display_data",
          "data": {
            "text/plain": [
              "  AcceptNum IsSterilization Name Variety Age  ChildreAnlong\n",
              "1 106060601 未絕育               米克斯  成年              \n",
              "2 106060401 已絕育               米克斯  成年              \n",
              "3 106060210 未絕育          俊俊 米克斯  成年              \n",
              "4 106060207 未絕育          小莊 米克斯  成年              \n",
              "5 106060203 未絕育          好橙 米克斯  成年              \n",
              "6 106053107 未絕育          歐雅 米克斯  年輕              \n",
              "  Resettlement                     Sex\n",
              "1 臺北市動物之家 收容編號106060601 雄 \n",
              "2                                  雌 \n",
              "3 臺北市動物之家 收容編號106060210 雄 \n",
              "4 臺北市動物之家 收容編號106060207 雄 \n",
              "5 臺北市動物之家 收容編號106060203 雄 \n",
              "6 臺北市動物之家 收容編號106053107 雌 \n",
              "  Note                                                                                   \n",
              "1 左剪耳 輕微脫水 精神食慾不佳                                                           \n",
              "2                                                                                        \n",
              "3 嗨~~我的名字叫俊俊，希望帥氣的我可以受您的青睞，快來動物之家看看我吧!\\n                \n",
              "4 哈囉~我的名字叫小莊，目前我在動物之家生活，希望能快快找到，願意認養我的人來帶我回家!!\\n\n",
              "5 嗨~我的名字叫好橙，害羞的我想要一個溫暖的家，您可以給我這個機會嗎?\\n                   \n",
              "6 大家好~我的名字叫歐雅，我的個性緊張，想帶我回家，要有耐心陪伴我渡過適應期唷!           \n",
              "  Phone       Reason      \n",
              "1 02-87913063 民眾不擬續養\n",
              "2             民眾不擬續養\n",
              "3 02-87913062 動物管制    \n",
              "4 02-87913062 動物管制    \n",
              "5 02-87913062 動物管制    \n",
              "6 02-87913062 動物管制    \n",
              "  ImageName                                                                          \n",
              "1 http://163.29.39.183/uploads/images/medium/c0f66294-143c-4406-8714-2e6764352b13.jpg\n",
              "2 http://163.29.39.183/uploads/images/medium/4ffa231f-3108-43c1-8ccf-b8578bdf1e1a.jpg\n",
              "3 http://163.29.39.183/uploads/images/medium/e68771df-747e-4544-846a-bdd6099e7f90.jpg\n",
              "4 http://163.29.39.183/uploads/images/medium/fd75d049-5310-4016-b1f4-71d69c4a9912.jpg\n",
              "5 http://163.29.39.183/uploads/images/medium/2f750fef-b696-4595-8fbf-cc6adf8f72d5.jpg\n",
              "6 http://163.29.39.183/uploads/images/medium/1c293e5e-99db-466e-a156-ff33fef368b4.jpg\n",
              "  HairType Build AnimalAnlong ChipNum         _id Type\n",
              "1 虎斑白   中                 900073000086900 1   貓  \n",
              "2 黃白     中                 900073000086481 2   貓  \n",
              "3 黃白     中                                 3   貓  \n",
              "4 黃       中                                 4   貓  \n",
              "5 黃       中                                 5   貓  \n",
              "6 黑       中                                 6   貓  \n",
              "  Email                      Bodyweight\n",
              "1 tcapoa8@mail.taipei.gov.tw           \n",
              "2                                      \n",
              "3 tcapoa8@mail.taipei.gov.tw           \n",
              "4 tcapoa8@mail.taipei.gov.tw           \n",
              "5 tcapoa8@mail.taipei.gov.tw           \n",
              "6 tcapoa8@mail.taipei.gov.tw           "
            ],
            "text/latex": "A data.frame: 6 × 20\n\\begin{tabular}{r|llllllllllllllllllll}\n  & AcceptNum & IsSterilization & Name & Variety & Age & ChildreAnlong & Resettlement & Sex & Note & Phone & Reason & ImageName & HairType & Build & AnimalAnlong & ChipNum & \\_id & Type & Email & Bodyweight\\\\\n  & <chr> & <chr> & <chr> & <chr> & <chr> & <chr> & <chr> & <chr> & <chr> & <chr> & <chr> & <chr> & <chr> & <chr> & <chr> & <chr> & <int> & <chr> & <chr> & <chr>\\\\\n\\hline\n\t1 & 106060601 & 未絕育 &      & 米克斯 & 成年 &  & 臺北市動物之家 收容編號106060601 & 雄 & 左剪耳 輕微脫水 精神食慾不佳                                                            & 02-87913063 & 民眾不擬續養 & http://163.29.39.183/uploads/images/medium/c0f66294-143c-4406-8714-2e6764352b13.jpg & 虎斑白 & 中 &  & 900073000086900 & 1 & 貓 & tcapoa8@mail.taipei.gov.tw & \\\\\n\t2 & 106060401 & 已絕育 &      & 米克斯 & 成年 &  &                                  & 雌 &                                                                                         &             & 民眾不擬續養 & http://163.29.39.183/uploads/images/medium/4ffa231f-3108-43c1-8ccf-b8578bdf1e1a.jpg & 黃白   & 中 &  & 900073000086481 & 2 & 貓 &                            & \\\\\n\t3 & 106060210 & 未絕育 & 俊俊 & 米克斯 & 成年 &  & 臺北市動物之家 收容編號106060210 & 雄 & 嗨\\textasciitilde{}\\textasciitilde{}我的名字叫俊俊，希望帥氣的我可以受您的青睞，快來動物之家看看我吧!\n                 & 02-87913062 & 動物管制     & http://163.29.39.183/uploads/images/medium/e68771df-747e-4544-846a-bdd6099e7f90.jpg & 黃白   & 中 &  &                 & 3 & 貓 & tcapoa8@mail.taipei.gov.tw & \\\\\n\t4 & 106060207 & 未絕育 & 小莊 & 米克斯 & 成年 &  & 臺北市動物之家 收容編號106060207 & 雄 & 哈囉\\textasciitilde{}我的名字叫小莊，目前我在動物之家生活，希望能快快找到，願意認養我的人來帶我回家!!\n & 02-87913062 & 動物管制     & http://163.29.39.183/uploads/images/medium/fd75d049-5310-4016-b1f4-71d69c4a9912.jpg & 黃     & 中 &  &                 & 4 & 貓 & tcapoa8@mail.taipei.gov.tw & \\\\\n\t5 & 106060203 & 未絕育 & 好橙 & 米克斯 & 成年 &  & 臺北市動物之家 收容編號106060203 & 雄 & 嗨\\textasciitilde{}我的名字叫好橙，害羞的我想要一個溫暖的家，您可以給我這個機會嗎?\n                    & 02-87913062 & 動物管制     & http://163.29.39.183/uploads/images/medium/2f750fef-b696-4595-8fbf-cc6adf8f72d5.jpg & 黃     & 中 &  &                 & 5 & 貓 & tcapoa8@mail.taipei.gov.tw & \\\\\n\t6 & 106053107 & 未絕育 & 歐雅 & 米克斯 & 年輕 &  & 臺北市動物之家 收容編號106053107 & 雌 & 大家好\\textasciitilde{}我的名字叫歐雅，我的個性緊張，想帶我回家，要有耐心陪伴我渡過適應期唷!            & 02-87913062 & 動物管制     & http://163.29.39.183/uploads/images/medium/1c293e5e-99db-466e-a156-ff33fef368b4.jpg & 黑     & 中 &  &                 & 6 & 貓 & tcapoa8@mail.taipei.gov.tw & \\\\\n\\end{tabular}\n",
            "text/markdown": "\nA data.frame: 6 × 20\n\n| <!--/--> | AcceptNum &lt;chr&gt; | IsSterilization &lt;chr&gt; | Name &lt;chr&gt; | Variety &lt;chr&gt; | Age &lt;chr&gt; | ChildreAnlong &lt;chr&gt; | Resettlement &lt;chr&gt; | Sex &lt;chr&gt; | Note &lt;chr&gt; | Phone &lt;chr&gt; | Reason &lt;chr&gt; | ImageName &lt;chr&gt; | HairType &lt;chr&gt; | Build &lt;chr&gt; | AnimalAnlong &lt;chr&gt; | ChipNum &lt;chr&gt; | _id &lt;int&gt; | Type &lt;chr&gt; | Email &lt;chr&gt; | Bodyweight &lt;chr&gt; |\n|---|---|---|---|---|---|---|---|---|---|---|---|---|---|---|---|---|---|---|---|---|\n| 1 | 106060601 | 未絕育 | <!----> | 米克斯 | 成年 | <!----> | 臺北市動物之家 收容編號106060601 | 雄 | 左剪耳 輕微脫水 精神食慾不佳                                                            | 02-87913063 | 民眾不擬續養 | http://163.29.39.183/uploads/images/medium/c0f66294-143c-4406-8714-2e6764352b13.jpg | 虎斑白 | 中 | <!----> | 900073000086900 | 1 | 貓 | tcapoa8@mail.taipei.gov.tw | <!----> |\n| 2 | 106060401 | 已絕育 | <!----> | 米克斯 | 成年 | <!----> | <!----> | 雌 | <!----> | <!----> | 民眾不擬續養 | http://163.29.39.183/uploads/images/medium/4ffa231f-3108-43c1-8ccf-b8578bdf1e1a.jpg | 黃白   | 中 | <!----> | 900073000086481 | 2 | 貓 | <!----> | <!----> |\n| 3 | 106060210 | 未絕育 | 俊俊 | 米克斯 | 成年 | <!----> | 臺北市動物之家 收容編號106060210 | 雄 | 嗨~~我的名字叫俊俊，希望帥氣的我可以受您的青睞，快來動物之家看看我吧!\n                 | 02-87913062 | 動物管制     | http://163.29.39.183/uploads/images/medium/e68771df-747e-4544-846a-bdd6099e7f90.jpg | 黃白   | 中 | <!----> | <!----> | 3 | 貓 | tcapoa8@mail.taipei.gov.tw | <!----> |\n| 4 | 106060207 | 未絕育 | 小莊 | 米克斯 | 成年 | <!----> | 臺北市動物之家 收容編號106060207 | 雄 | 哈囉~我的名字叫小莊，目前我在動物之家生活，希望能快快找到，願意認養我的人來帶我回家!!\n | 02-87913062 | 動物管制     | http://163.29.39.183/uploads/images/medium/fd75d049-5310-4016-b1f4-71d69c4a9912.jpg | 黃     | 中 | <!----> | <!----> | 4 | 貓 | tcapoa8@mail.taipei.gov.tw | <!----> |\n| 5 | 106060203 | 未絕育 | 好橙 | 米克斯 | 成年 | <!----> | 臺北市動物之家 收容編號106060203 | 雄 | 嗨~我的名字叫好橙，害羞的我想要一個溫暖的家，您可以給我這個機會嗎?\n                    | 02-87913062 | 動物管制     | http://163.29.39.183/uploads/images/medium/2f750fef-b696-4595-8fbf-cc6adf8f72d5.jpg | 黃     | 中 | <!----> | <!----> | 5 | 貓 | tcapoa8@mail.taipei.gov.tw | <!----> |\n| 6 | 106053107 | 未絕育 | 歐雅 | 米克斯 | 年輕 | <!----> | 臺北市動物之家 收容編號106053107 | 雌 | 大家好~我的名字叫歐雅，我的個性緊張，想帶我回家，要有耐心陪伴我渡過適應期唷!            | 02-87913062 | 動物管制     | http://163.29.39.183/uploads/images/medium/1c293e5e-99db-466e-a156-ff33fef368b4.jpg | 黑     | 中 | <!----> | <!----> | 6 | 貓 | tcapoa8@mail.taipei.gov.tw | <!----> |\n\n",
            "text/html": [
              "<table>\n",
              "<caption>A data.frame: 6 × 20</caption>\n",
              "<thead>\n",
              "\t<tr><th></th><th scope=col>AcceptNum</th><th scope=col>IsSterilization</th><th scope=col>Name</th><th scope=col>Variety</th><th scope=col>Age</th><th scope=col>ChildreAnlong</th><th scope=col>Resettlement</th><th scope=col>Sex</th><th scope=col>Note</th><th scope=col>Phone</th><th scope=col>Reason</th><th scope=col>ImageName</th><th scope=col>HairType</th><th scope=col>Build</th><th scope=col>AnimalAnlong</th><th scope=col>ChipNum</th><th scope=col>_id</th><th scope=col>Type</th><th scope=col>Email</th><th scope=col>Bodyweight</th></tr>\n",
              "\t<tr><th></th><th scope=col>&lt;chr&gt;</th><th scope=col>&lt;chr&gt;</th><th scope=col>&lt;chr&gt;</th><th scope=col>&lt;chr&gt;</th><th scope=col>&lt;chr&gt;</th><th scope=col>&lt;chr&gt;</th><th scope=col>&lt;chr&gt;</th><th scope=col>&lt;chr&gt;</th><th scope=col>&lt;chr&gt;</th><th scope=col>&lt;chr&gt;</th><th scope=col>&lt;chr&gt;</th><th scope=col>&lt;chr&gt;</th><th scope=col>&lt;chr&gt;</th><th scope=col>&lt;chr&gt;</th><th scope=col>&lt;chr&gt;</th><th scope=col>&lt;chr&gt;</th><th scope=col>&lt;int&gt;</th><th scope=col>&lt;chr&gt;</th><th scope=col>&lt;chr&gt;</th><th scope=col>&lt;chr&gt;</th></tr>\n",
              "</thead>\n",
              "<tbody>\n",
              "\t<tr><th scope=row>1</th><td>106060601</td><td>未絕育</td><td>    </td><td>米克斯</td><td>成年</td><td></td><td>臺北市動物之家 收容編號106060601</td><td>雄</td><td>左剪耳 輕微脫水 精神食慾不佳                                                           </td><td>02-87913063</td><td>民眾不擬續養</td><td>http://163.29.39.183/uploads/images/medium/c0f66294-143c-4406-8714-2e6764352b13.jpg</td><td>虎斑白</td><td>中</td><td></td><td>900073000086900</td><td>1</td><td>貓</td><td>tcapoa8@mail.taipei.gov.tw</td><td></td></tr>\n",
              "\t<tr><th scope=row>2</th><td>106060401</td><td>已絕育</td><td>    </td><td>米克斯</td><td>成年</td><td></td><td>                                </td><td>雌</td><td>                                                                                       </td><td>           </td><td>民眾不擬續養</td><td>http://163.29.39.183/uploads/images/medium/4ffa231f-3108-43c1-8ccf-b8578bdf1e1a.jpg</td><td>黃白  </td><td>中</td><td></td><td>900073000086481</td><td>2</td><td>貓</td><td>                          </td><td></td></tr>\n",
              "\t<tr><th scope=row>3</th><td>106060210</td><td>未絕育</td><td>俊俊</td><td>米克斯</td><td>成年</td><td></td><td>臺北市動物之家 收容編號106060210</td><td>雄</td><td>嗨~~我的名字叫俊俊，希望帥氣的我可以受您的青睞，快來動物之家看看我吧!\n",
              "                </td><td>02-87913062</td><td>動物管制    </td><td>http://163.29.39.183/uploads/images/medium/e68771df-747e-4544-846a-bdd6099e7f90.jpg</td><td>黃白  </td><td>中</td><td></td><td>               </td><td>3</td><td>貓</td><td>tcapoa8@mail.taipei.gov.tw</td><td></td></tr>\n",
              "\t<tr><th scope=row>4</th><td>106060207</td><td>未絕育</td><td>小莊</td><td>米克斯</td><td>成年</td><td></td><td>臺北市動物之家 收容編號106060207</td><td>雄</td><td>哈囉~我的名字叫小莊，目前我在動物之家生活，希望能快快找到，願意認養我的人來帶我回家!!\n",
              "</td><td>02-87913062</td><td>動物管制    </td><td>http://163.29.39.183/uploads/images/medium/fd75d049-5310-4016-b1f4-71d69c4a9912.jpg</td><td>黃    </td><td>中</td><td></td><td>               </td><td>4</td><td>貓</td><td>tcapoa8@mail.taipei.gov.tw</td><td></td></tr>\n",
              "\t<tr><th scope=row>5</th><td>106060203</td><td>未絕育</td><td>好橙</td><td>米克斯</td><td>成年</td><td></td><td>臺北市動物之家 收容編號106060203</td><td>雄</td><td>嗨~我的名字叫好橙，害羞的我想要一個溫暖的家，您可以給我這個機會嗎?\n",
              "                   </td><td>02-87913062</td><td>動物管制    </td><td>http://163.29.39.183/uploads/images/medium/2f750fef-b696-4595-8fbf-cc6adf8f72d5.jpg</td><td>黃    </td><td>中</td><td></td><td>               </td><td>5</td><td>貓</td><td>tcapoa8@mail.taipei.gov.tw</td><td></td></tr>\n",
              "\t<tr><th scope=row>6</th><td>106053107</td><td>未絕育</td><td>歐雅</td><td>米克斯</td><td>年輕</td><td></td><td>臺北市動物之家 收容編號106053107</td><td>雌</td><td>大家好~我的名字叫歐雅，我的個性緊張，想帶我回家，要有耐心陪伴我渡過適應期唷!           </td><td>02-87913062</td><td>動物管制    </td><td>http://163.29.39.183/uploads/images/medium/1c293e5e-99db-466e-a156-ff33fef368b4.jpg</td><td>黑    </td><td>中</td><td></td><td>               </td><td>6</td><td>貓</td><td>tcapoa8@mail.taipei.gov.tw</td><td></td></tr>\n",
              "</tbody>\n",
              "</table>\n"
            ]
          },
          "metadata": {
            "tags": []
          }
        }
      ]
    },
    {
      "cell_type": "code",
      "metadata": {
        "id": "uQLnQK5S9jAo",
        "outputId": "b707f20a-33d4-4bea-a178-0115c6da1f74",
        "colab": {
          "base_uri": "https://localhost:8080/",
          "height": 68
        }
      },
      "source": [
        "table(PetData$result$results$Reason)"
      ],
      "execution_count": 4,
      "outputs": [
        {
          "output_type": "display_data",
          "data": {
            "text/plain": [
              "\n",
              "                 動物救援     動物管制 民眾不擬續養     民眾拾獲 \n",
              "          28          109          155           50           23 "
            ]
          },
          "metadata": {
            "tags": []
          }
        }
      ]
    },
    {
      "cell_type": "code",
      "metadata": {
        "id": "uSdn6d2z97-r",
        "outputId": "f5571867-66bd-46c7-e6bf-cdc35a6e97aa",
        "colab": {
          "base_uri": "https://localhost:8080/",
          "height": 68
        }
      },
      "source": [
        "table(PetData$result$results$Sex)"
      ],
      "execution_count": 5,
      "outputs": [
        {
          "output_type": "display_data",
          "data": {
            "text/plain": [
              "\n",
              " 雄  雌 \n",
              "190 175 "
            ]
          },
          "metadata": {
            "tags": []
          }
        }
      ]
    },
    {
      "cell_type": "code",
      "metadata": {
        "id": "Qz51u-Na-A7m",
        "outputId": "11bfa7d0-4864-4c50-8c4e-e05536057a2c",
        "colab": {
          "base_uri": "https://localhost:8080/",
          "height": 68
        }
      },
      "source": [
        "table(PetData$result$results$IsSterilization)"
      ],
      "execution_count": 6,
      "outputs": [
        {
          "output_type": "display_data",
          "data": {
            "text/plain": [
              "\n",
              "已絕育 未絕育 \n",
              "   151    214 "
            ]
          },
          "metadata": {
            "tags": []
          }
        }
      ]
    },
    {
      "cell_type": "code",
      "metadata": {
        "id": "EpMneMLt-JKn",
        "outputId": "c2113db3-94eb-429e-ba58-a8c587851436",
        "colab": {
          "base_uri": "https://localhost:8080/",
          "height": 68
        }
      },
      "source": [
        "table(PetData$result$results$Type)"
      ],
      "execution_count": 7,
      "outputs": [
        {
          "output_type": "display_data",
          "data": {
            "text/plain": [
              "\n",
              "其他   犬   貓 \n",
              "  62  187  116 "
            ]
          },
          "metadata": {
            "tags": []
          }
        }
      ]
    }
  ]
}